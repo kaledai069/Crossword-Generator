{
  "nbformat": 4,
  "nbformat_minor": 0,
  "metadata": {
    "colab": {
      "provenance": [],
      "include_colab_link": true
    },
    "kernelspec": {
      "name": "python3",
      "display_name": "Python 3"
    },
    "language_info": {
      "name": "python"
    }
  },
  "cells": [
    {
      "cell_type": "markdown",
      "metadata": {
        "id": "view-in-github",
        "colab_type": "text"
      },
      "source": [
        "<a href=\"https://colab.research.google.com/github/kaledai069/Crossword-Generator/blob/master/Grid_answer_clue_pair_generator_Approach_2.ipynb\" target=\"_parent\"><img src=\"https://colab.research.google.com/assets/colab-badge.svg\" alt=\"Open In Colab\"/></a>"
      ]
    },
    {
      "cell_type": "code",
      "execution_count": null,
      "metadata": {
        "id": "KRTMalE7BZW5",
        "colab": {
          "base_uri": "https://localhost:8080/"
        },
        "outputId": "4c8cc50b-a553-4f90-c627-5652cba43e41"
      },
      "outputs": [
        {
          "output_type": "stream",
          "name": "stdout",
          "text": [
            "Mounted at /content/gdrive\n"
          ]
        }
      ],
      "source": [
        "from google.colab import drive\n",
        "drive.mount('/content/gdrive')"
      ]
    },
    {
      "cell_type": "code",
      "source": [
        "!git clone https://github.com/kaledai069/Crossword-Solver-A-Neural-Transformer-based-Approach\n",
        "%cd Crossword-Solver-A-Neural-Transformer-based-Approach/\n",
        "!bash inference_setup.sh"
      ],
      "metadata": {
        "colab": {
          "base_uri": "https://localhost:8080/"
        },
        "id": "CCi-ra4tEEu9",
        "outputId": "97f33389-950a-4fc1-8762-587f58eb7b15"
      },
      "execution_count": null,
      "outputs": [
        {
          "output_type": "stream",
          "name": "stdout",
          "text": [
            "Cloning into 'Crossword-Solver-A-Neural-Transformer-based-Approach'...\n",
            "remote: Enumerating objects: 1919, done.\u001b[K\n",
            "remote: Counting objects: 100% (619/619), done.\u001b[K\n",
            "remote: Compressing objects: 100% (287/287), done.\u001b[K\n",
            "remote: Total 1919 (delta 389), reused 554 (delta 328), pack-reused 1300\u001b[K\n",
            "Receiving objects: 100% (1919/1919), 13.39 MiB | 20.32 MiB/s, done.\n",
            "Resolving deltas: 100% (583/583), done.\n",
            "/content/Crossword-Solver-A-Neural-Transformer-based-Approach\n",
            "\u001b[2K     \u001b[90m━━━━━━━━━━━━━━━━━━━━━━━━━━━━━━━━━━━━━━━━\u001b[0m \u001b[32m1.3/1.3 MB\u001b[0m \u001b[31m13.9 MB/s\u001b[0m eta \u001b[36m0:00:00\u001b[0m\n",
            "\u001b[2K     \u001b[90m━━━━━━━━━━━━━━━━━━━━━━━━━━━━━━━━━━━━━━━━\u001b[0m \u001b[32m17.6/17.6 MB\u001b[0m \u001b[31m34.6 MB/s\u001b[0m eta \u001b[36m0:00:00\u001b[0m\n",
            "\u001b[2K     \u001b[90m━━━━━━━━━━━━━━━━━━━━━━━━━━━━━━━━━━━━━━━━\u001b[0m \u001b[32m4.8/4.8 MB\u001b[0m \u001b[31m14.2 MB/s\u001b[0m eta \u001b[36m0:00:00\u001b[0m\n",
            "\u001b[?25h  Preparing metadata (setup.py) ... \u001b[?25l\u001b[?25hdone\n",
            "  Building wheel for puzpy (setup.py) ... \u001b[?25l\u001b[?25hdone\n",
            "\u001b[2K     \u001b[90m━━━━━━━━━━━━━━━━━━━━━━━━━━━━━━━━━━━━━━━━\u001b[0m \u001b[32m8.4/8.4 MB\u001b[0m \u001b[31m15.3 MB/s\u001b[0m eta \u001b[36m0:00:00\u001b[0m\n",
            "\u001b[2K     \u001b[90m━━━━━━━━━━━━━━━━━━━━━━━━━━━━━━━━━━━━━━━━\u001b[0m \u001b[32m190.6/190.6 kB\u001b[0m \u001b[31m13.6 MB/s\u001b[0m eta \u001b[36m0:00:00\u001b[0m\n",
            "\u001b[2K     \u001b[90m━━━━━━━━━━━━━━━━━━━━━━━━━━━━━━━━━━━━━━━━\u001b[0m \u001b[32m4.8/4.8 MB\u001b[0m \u001b[31m35.8 MB/s\u001b[0m eta \u001b[36m0:00:00\u001b[0m\n",
            "\u001b[2K     \u001b[90m━━━━━━━━━━━━━━━━━━━━━━━━━━━━━━━━━━━━━━━━\u001b[0m \u001b[32m82.1/82.1 kB\u001b[0m \u001b[31m8.5 MB/s\u001b[0m eta \u001b[36m0:00:00\u001b[0m\n",
            "\u001b[2K     \u001b[90m━━━━━━━━━━━━━━━━━━━━━━━━━━━━━━━━━━━━━━━━\u001b[0m \u001b[32m62.7/62.7 kB\u001b[0m \u001b[31m5.6 MB/s\u001b[0m eta \u001b[36m0:00:00\u001b[0m\n",
            "\u001b[?25h"
          ]
        }
      ]
    },
    {
      "cell_type": "code",
      "source": [
        "%cd Crossword-Solver-A-Neural-Transformer-based-Approach/"
      ],
      "metadata": {
        "colab": {
          "base_uri": "https://localhost:8080/"
        },
        "id": "mhgOEafvbL68",
        "outputId": "d52cdafb-3beb-4cda-e858-82fbbb51e8c3"
      },
      "execution_count": null,
      "outputs": [
        {
          "output_type": "stream",
          "name": "stdout",
          "text": [
            "/content/Crossword-Solver-A-Neural-Transformer-based-Approach\n"
          ]
        }
      ]
    },
    {
      "cell_type": "code",
      "source": [
        "import json\n",
        "import os\n",
        "import pandas as pd\n",
        "import random\n",
        "from pprint import pprint\n"
      ],
      "metadata": {
        "id": "p_K-ELluLsSt"
      },
      "execution_count": null,
      "outputs": []
    },
    {
      "cell_type": "code",
      "source": [
        "CA_DATASET = \"/content/gdrive/MyDrive/Clue-Answer-Dataset_Version_2.csv\"\n",
        "\n",
        "clue_answer_df = pd.read_csv(CA_DATASET)\n",
        "clue_answer_df['Unsegmented Answer'] = clue_answer_df['Segmented Answer'].apply(lambda x: x.replace(' ', '') if not isinstance(x, float) else x)\n",
        "\n",
        "all_clues = clue_answer_df['Clue'].tolist()\n",
        "all_answers = clue_answer_df['Unsegmented Answer'].tolist()\n",
        "clue_answer_df.head()"
      ],
      "metadata": {
        "colab": {
          "base_uri": "https://localhost:8080/",
          "height": 206
        },
        "id": "91JdI2H7LyVh",
        "outputId": "8afcde35-49c8-454c-8e45-9fa7ff39ce9f"
      },
      "execution_count": null,
      "outputs": [
        {
          "output_type": "execute_result",
          "data": {
            "text/plain": [
              "   Unnamed: 0                               Clue  Answer Segmented Answer  \\\n",
              "0           0     cpa for example crossword clue  taxpro          tax pro   \n",
              "1           1             cordial crossword clue    warm             warm   \n",
              "2           2    joe without jolt crossword clue   decaf            decaf   \n",
              "3           3   bouillabaisse bit crossword clue  mussel           mussel   \n",
              "4           4  pre-gps travel aid crossword clue  aaamap          aaa map   \n",
              "\n",
              "   answer_length Unsegmented Answer  \n",
              "0            6.0             taxpro  \n",
              "1            4.0               warm  \n",
              "2            5.0              decaf  \n",
              "3            6.0             mussel  \n",
              "4            6.0             aaamap  "
            ],
            "text/html": [
              "\n",
              "  <div id=\"df-be5a1095-5f54-476d-a5e0-6535a8d98263\" class=\"colab-df-container\">\n",
              "    <div>\n",
              "<style scoped>\n",
              "    .dataframe tbody tr th:only-of-type {\n",
              "        vertical-align: middle;\n",
              "    }\n",
              "\n",
              "    .dataframe tbody tr th {\n",
              "        vertical-align: top;\n",
              "    }\n",
              "\n",
              "    .dataframe thead th {\n",
              "        text-align: right;\n",
              "    }\n",
              "</style>\n",
              "<table border=\"1\" class=\"dataframe\">\n",
              "  <thead>\n",
              "    <tr style=\"text-align: right;\">\n",
              "      <th></th>\n",
              "      <th>Unnamed: 0</th>\n",
              "      <th>Clue</th>\n",
              "      <th>Answer</th>\n",
              "      <th>Segmented Answer</th>\n",
              "      <th>answer_length</th>\n",
              "      <th>Unsegmented Answer</th>\n",
              "    </tr>\n",
              "  </thead>\n",
              "  <tbody>\n",
              "    <tr>\n",
              "      <th>0</th>\n",
              "      <td>0</td>\n",
              "      <td>cpa for example crossword clue</td>\n",
              "      <td>taxpro</td>\n",
              "      <td>tax pro</td>\n",
              "      <td>6.0</td>\n",
              "      <td>taxpro</td>\n",
              "    </tr>\n",
              "    <tr>\n",
              "      <th>1</th>\n",
              "      <td>1</td>\n",
              "      <td>cordial crossword clue</td>\n",
              "      <td>warm</td>\n",
              "      <td>warm</td>\n",
              "      <td>4.0</td>\n",
              "      <td>warm</td>\n",
              "    </tr>\n",
              "    <tr>\n",
              "      <th>2</th>\n",
              "      <td>2</td>\n",
              "      <td>joe without jolt crossword clue</td>\n",
              "      <td>decaf</td>\n",
              "      <td>decaf</td>\n",
              "      <td>5.0</td>\n",
              "      <td>decaf</td>\n",
              "    </tr>\n",
              "    <tr>\n",
              "      <th>3</th>\n",
              "      <td>3</td>\n",
              "      <td>bouillabaisse bit crossword clue</td>\n",
              "      <td>mussel</td>\n",
              "      <td>mussel</td>\n",
              "      <td>6.0</td>\n",
              "      <td>mussel</td>\n",
              "    </tr>\n",
              "    <tr>\n",
              "      <th>4</th>\n",
              "      <td>4</td>\n",
              "      <td>pre-gps travel aid crossword clue</td>\n",
              "      <td>aaamap</td>\n",
              "      <td>aaa map</td>\n",
              "      <td>6.0</td>\n",
              "      <td>aaamap</td>\n",
              "    </tr>\n",
              "  </tbody>\n",
              "</table>\n",
              "</div>\n",
              "    <div class=\"colab-df-buttons\">\n",
              "\n",
              "  <div class=\"colab-df-container\">\n",
              "    <button class=\"colab-df-convert\" onclick=\"convertToInteractive('df-be5a1095-5f54-476d-a5e0-6535a8d98263')\"\n",
              "            title=\"Convert this dataframe to an interactive table.\"\n",
              "            style=\"display:none;\">\n",
              "\n",
              "  <svg xmlns=\"http://www.w3.org/2000/svg\" height=\"24px\" viewBox=\"0 -960 960 960\">\n",
              "    <path d=\"M120-120v-720h720v720H120Zm60-500h600v-160H180v160Zm220 220h160v-160H400v160Zm0 220h160v-160H400v160ZM180-400h160v-160H180v160Zm440 0h160v-160H620v160ZM180-180h160v-160H180v160Zm440 0h160v-160H620v160Z\"/>\n",
              "  </svg>\n",
              "    </button>\n",
              "\n",
              "  <style>\n",
              "    .colab-df-container {\n",
              "      display:flex;\n",
              "      gap: 12px;\n",
              "    }\n",
              "\n",
              "    .colab-df-convert {\n",
              "      background-color: #E8F0FE;\n",
              "      border: none;\n",
              "      border-radius: 50%;\n",
              "      cursor: pointer;\n",
              "      display: none;\n",
              "      fill: #1967D2;\n",
              "      height: 32px;\n",
              "      padding: 0 0 0 0;\n",
              "      width: 32px;\n",
              "    }\n",
              "\n",
              "    .colab-df-convert:hover {\n",
              "      background-color: #E2EBFA;\n",
              "      box-shadow: 0px 1px 2px rgba(60, 64, 67, 0.3), 0px 1px 3px 1px rgba(60, 64, 67, 0.15);\n",
              "      fill: #174EA6;\n",
              "    }\n",
              "\n",
              "    .colab-df-buttons div {\n",
              "      margin-bottom: 4px;\n",
              "    }\n",
              "\n",
              "    [theme=dark] .colab-df-convert {\n",
              "      background-color: #3B4455;\n",
              "      fill: #D2E3FC;\n",
              "    }\n",
              "\n",
              "    [theme=dark] .colab-df-convert:hover {\n",
              "      background-color: #434B5C;\n",
              "      box-shadow: 0px 1px 3px 1px rgba(0, 0, 0, 0.15);\n",
              "      filter: drop-shadow(0px 1px 2px rgba(0, 0, 0, 0.3));\n",
              "      fill: #FFFFFF;\n",
              "    }\n",
              "  </style>\n",
              "\n",
              "    <script>\n",
              "      const buttonEl =\n",
              "        document.querySelector('#df-be5a1095-5f54-476d-a5e0-6535a8d98263 button.colab-df-convert');\n",
              "      buttonEl.style.display =\n",
              "        google.colab.kernel.accessAllowed ? 'block' : 'none';\n",
              "\n",
              "      async function convertToInteractive(key) {\n",
              "        const element = document.querySelector('#df-be5a1095-5f54-476d-a5e0-6535a8d98263');\n",
              "        const dataTable =\n",
              "          await google.colab.kernel.invokeFunction('convertToInteractive',\n",
              "                                                    [key], {});\n",
              "        if (!dataTable) return;\n",
              "\n",
              "        const docLinkHtml = 'Like what you see? Visit the ' +\n",
              "          '<a target=\"_blank\" href=https://colab.research.google.com/notebooks/data_table.ipynb>data table notebook</a>'\n",
              "          + ' to learn more about interactive tables.';\n",
              "        element.innerHTML = '';\n",
              "        dataTable['output_type'] = 'display_data';\n",
              "        await google.colab.output.renderOutput(dataTable, element);\n",
              "        const docLink = document.createElement('div');\n",
              "        docLink.innerHTML = docLinkHtml;\n",
              "        element.appendChild(docLink);\n",
              "      }\n",
              "    </script>\n",
              "  </div>\n",
              "\n",
              "\n",
              "<div id=\"df-efaa5b56-58de-489c-9945-dfc0f876ab6c\">\n",
              "  <button class=\"colab-df-quickchart\" onclick=\"quickchart('df-efaa5b56-58de-489c-9945-dfc0f876ab6c')\"\n",
              "            title=\"Suggest charts\"\n",
              "            style=\"display:none;\">\n",
              "\n",
              "<svg xmlns=\"http://www.w3.org/2000/svg\" height=\"24px\"viewBox=\"0 0 24 24\"\n",
              "     width=\"24px\">\n",
              "    <g>\n",
              "        <path d=\"M19 3H5c-1.1 0-2 .9-2 2v14c0 1.1.9 2 2 2h14c1.1 0 2-.9 2-2V5c0-1.1-.9-2-2-2zM9 17H7v-7h2v7zm4 0h-2V7h2v10zm4 0h-2v-4h2v4z\"/>\n",
              "    </g>\n",
              "</svg>\n",
              "  </button>\n",
              "\n",
              "<style>\n",
              "  .colab-df-quickchart {\n",
              "      --bg-color: #E8F0FE;\n",
              "      --fill-color: #1967D2;\n",
              "      --hover-bg-color: #E2EBFA;\n",
              "      --hover-fill-color: #174EA6;\n",
              "      --disabled-fill-color: #AAA;\n",
              "      --disabled-bg-color: #DDD;\n",
              "  }\n",
              "\n",
              "  [theme=dark] .colab-df-quickchart {\n",
              "      --bg-color: #3B4455;\n",
              "      --fill-color: #D2E3FC;\n",
              "      --hover-bg-color: #434B5C;\n",
              "      --hover-fill-color: #FFFFFF;\n",
              "      --disabled-bg-color: #3B4455;\n",
              "      --disabled-fill-color: #666;\n",
              "  }\n",
              "\n",
              "  .colab-df-quickchart {\n",
              "    background-color: var(--bg-color);\n",
              "    border: none;\n",
              "    border-radius: 50%;\n",
              "    cursor: pointer;\n",
              "    display: none;\n",
              "    fill: var(--fill-color);\n",
              "    height: 32px;\n",
              "    padding: 0;\n",
              "    width: 32px;\n",
              "  }\n",
              "\n",
              "  .colab-df-quickchart:hover {\n",
              "    background-color: var(--hover-bg-color);\n",
              "    box-shadow: 0 1px 2px rgba(60, 64, 67, 0.3), 0 1px 3px 1px rgba(60, 64, 67, 0.15);\n",
              "    fill: var(--button-hover-fill-color);\n",
              "  }\n",
              "\n",
              "  .colab-df-quickchart-complete:disabled,\n",
              "  .colab-df-quickchart-complete:disabled:hover {\n",
              "    background-color: var(--disabled-bg-color);\n",
              "    fill: var(--disabled-fill-color);\n",
              "    box-shadow: none;\n",
              "  }\n",
              "\n",
              "  .colab-df-spinner {\n",
              "    border: 2px solid var(--fill-color);\n",
              "    border-color: transparent;\n",
              "    border-bottom-color: var(--fill-color);\n",
              "    animation:\n",
              "      spin 1s steps(1) infinite;\n",
              "  }\n",
              "\n",
              "  @keyframes spin {\n",
              "    0% {\n",
              "      border-color: transparent;\n",
              "      border-bottom-color: var(--fill-color);\n",
              "      border-left-color: var(--fill-color);\n",
              "    }\n",
              "    20% {\n",
              "      border-color: transparent;\n",
              "      border-left-color: var(--fill-color);\n",
              "      border-top-color: var(--fill-color);\n",
              "    }\n",
              "    30% {\n",
              "      border-color: transparent;\n",
              "      border-left-color: var(--fill-color);\n",
              "      border-top-color: var(--fill-color);\n",
              "      border-right-color: var(--fill-color);\n",
              "    }\n",
              "    40% {\n",
              "      border-color: transparent;\n",
              "      border-right-color: var(--fill-color);\n",
              "      border-top-color: var(--fill-color);\n",
              "    }\n",
              "    60% {\n",
              "      border-color: transparent;\n",
              "      border-right-color: var(--fill-color);\n",
              "    }\n",
              "    80% {\n",
              "      border-color: transparent;\n",
              "      border-right-color: var(--fill-color);\n",
              "      border-bottom-color: var(--fill-color);\n",
              "    }\n",
              "    90% {\n",
              "      border-color: transparent;\n",
              "      border-bottom-color: var(--fill-color);\n",
              "    }\n",
              "  }\n",
              "</style>\n",
              "\n",
              "  <script>\n",
              "    async function quickchart(key) {\n",
              "      const quickchartButtonEl =\n",
              "        document.querySelector('#' + key + ' button');\n",
              "      quickchartButtonEl.disabled = true;  // To prevent multiple clicks.\n",
              "      quickchartButtonEl.classList.add('colab-df-spinner');\n",
              "      try {\n",
              "        const charts = await google.colab.kernel.invokeFunction(\n",
              "            'suggestCharts', [key], {});\n",
              "      } catch (error) {\n",
              "        console.error('Error during call to suggestCharts:', error);\n",
              "      }\n",
              "      quickchartButtonEl.classList.remove('colab-df-spinner');\n",
              "      quickchartButtonEl.classList.add('colab-df-quickchart-complete');\n",
              "    }\n",
              "    (() => {\n",
              "      let quickchartButtonEl =\n",
              "        document.querySelector('#df-efaa5b56-58de-489c-9945-dfc0f876ab6c button');\n",
              "      quickchartButtonEl.style.display =\n",
              "        google.colab.kernel.accessAllowed ? 'block' : 'none';\n",
              "    })();\n",
              "  </script>\n",
              "</div>\n",
              "\n",
              "    </div>\n",
              "  </div>\n"
            ]
          },
          "metadata": {},
          "execution_count": 2
        }
      ]
    },
    {
      "cell_type": "code",
      "source": [
        "def get_me_a_random_clue(answer_length):\n",
        "    global all_clues\n",
        "\n",
        "    random_index = random.randint(0, len(all_clues))\n",
        "    while 'across' in all_clues[random_index] or 'down' in all_clues[random_index]:\n",
        "        random_index = random.randint(0, len(all_clues))\n",
        "    return all_clues[random_index]"
      ],
      "metadata": {
        "id": "Gzpeg9foNM3k"
      },
      "execution_count": null,
      "outputs": []
    },
    {
      "cell_type": "code",
      "source": [
        "def find_grid_position(grid_nums, clue_num, n_rows):\n",
        "    reshaped_grid = [grid_nums[i:i + n_rows] for i in range(0, len(grid_nums), n_rows)]\n",
        "\n",
        "    for i in range(len(reshaped_grid)):\n",
        "        for j in range(len(reshaped_grid[0])):\n",
        "            if reshaped_grid[i][j] == clue_num:\n",
        "                return (i, j)\n",
        "\n",
        "def find_answer_length(main_grid, position, grid_size, across = True):\n",
        "    rows, cols = grid_size\n",
        "    i, j = position\n",
        "    count = 0\n",
        "    if across:\n",
        "        for idx in range(j, cols):\n",
        "            if main_grid[i][idx] == '.':\n",
        "                return count\n",
        "            else:\n",
        "                count += 1\n",
        "    else:\n",
        "        for idx in range(i, rows):\n",
        "            if main_grid[idx][j] == '.':\n",
        "                return count\n",
        "            else:\n",
        "                count += 1\n",
        "    return count\n",
        "\n",
        "def json_CA_json_converter(json_file_path, is_path):\n",
        "    if is_path:\n",
        "        with open(json_file_path, \"r\") as file:\n",
        "            data = json.load(file)\n",
        "    else:\n",
        "        data = json_file_path\n",
        "\n",
        "    json_conversion_dict = {}\n",
        "\n",
        "    rows = data[\"size\"][\"rows\"]\n",
        "    cols = data[\"size\"][\"cols\"]\n",
        "\n",
        "    grid_list = data['grid']\n",
        "\n",
        "    main_grid = [grid_list[i:i + rows] for i in range(0, len(grid_list), rows)]\n",
        "\n",
        "\n",
        "    json_conversion_dict[\"metadata\"] = {\"rows\": rows, \"cols\": cols}\n",
        "\n",
        "    across_grid_nums = data['across_nums']\n",
        "    down_grid_nums = data['down_nums']\n",
        "\n",
        "    across_clue_answer = {}\n",
        "    down_clue_answer = {}\n",
        "\n",
        "    grid_info = data[\"grid\"]\n",
        "    grid_num = data[\"gridnums\"]\n",
        "    reshaped_grid = [grid_num[i:i + rows] for i in range(0, len(grid_num), rows)]\n",
        "\n",
        "    for clue_num in across_grid_nums:\n",
        "      position = find_grid_position(grid_num, clue_num, rows)\n",
        "      answer_count = find_answer_length(main_grid, position, (rows, cols))\n",
        "      random_clue = get_me_a_random_clue(answer_count)\n",
        "      across_clue_answer[str(clue_num)] = [random_clue, \"\".join(['A' for _ in range(answer_count)])]\n",
        "\n",
        "    for clue_num in down_grid_nums:\n",
        "      position = find_grid_position(grid_num, clue_num, rows)\n",
        "      answer_count = find_answer_length(main_grid, position, (rows, cols), False)\n",
        "      random_clue = get_me_a_random_clue(answer_count)\n",
        "      down_clue_answer[str(clue_num)] = [random_clue, \"\".join(['A' for _ in range(answer_count)])]\n",
        "\n",
        "    json_conversion_dict[\"clues\"] = {\n",
        "          \"across\": across_clue_answer,\n",
        "          \"down\": down_clue_answer,\n",
        "      }\n",
        "\n",
        "    grid_info_list = []\n",
        "    for i in range(rows):\n",
        "        row_list = []\n",
        "        for j in range(cols):\n",
        "            if grid_info[i * rows + j] == \".\":\n",
        "                row_list.append(\"BLACK\")\n",
        "            else:\n",
        "                if grid_num[i * rows + j] == 0:\n",
        "                    row_list.append([\"\", grid_info[i * rows + j]])\n",
        "                else:\n",
        "                    row_list.append(\n",
        "                        [str(grid_num[i * rows + j]), grid_info[i * rows + j]]\n",
        "                    )\n",
        "        grid_info_list.append(row_list)\n",
        "\n",
        "    json_conversion_dict[\"grid\"] = grid_info_list\n",
        "\n",
        "    return json_conversion_dict"
      ],
      "metadata": {
        "id": "IGSM7JULKA7s"
      },
      "execution_count": null,
      "outputs": []
    },
    {
      "cell_type": "markdown",
      "source": [
        "## Inference with the crossword solver"
      ],
      "metadata": {
        "id": "-h8GHqd3OLrr"
      }
    },
    {
      "cell_type": "markdown",
      "source": [
        "#### Important imports for solver"
      ],
      "metadata": {
        "id": "PMczBfFJOPrO"
      }
    },
    {
      "cell_type": "code",
      "source": [
        "import datetime\n",
        "import time\n",
        "import matplotlib.pyplot as plt\n",
        "import cv2\n",
        "import pprint\n",
        "import shutil\n",
        "import os\n",
        "\n",
        "from copy import deepcopy\n",
        "from pprint import pprint\n",
        "from matplotlib.gridspec import GridSpec\n",
        "\n",
        "from solver.Crossword import Crossword\n",
        "from solver.BPSolver import BPSolver\n",
        "from utils import puz_to_json, fetch_nyt_crossword\n",
        "from draw_grid import get_grid\n"
      ],
      "metadata": {
        "id": "fNT6IJeHLqe4"
      },
      "execution_count": null,
      "outputs": []
    },
    {
      "cell_type": "code",
      "source": [
        "model_path = \"/content/gdrive/MyDrive/First Pass Model/distilbert_EPOCHs_7_COMPLETE.bin\"\n",
        "ans_path = \"/content/gdrive/MyDrive/First Pass Model/all_answer_list.tsv\"\n",
        "dense_embd_path = \"/content/gdrive/MyDrive/First Pass Model/distilbert_7_epochs_embeddings.pkl\"\n",
        "\n",
        "reranker_path = \"/content/gdrive/MyDrive/Second Pass Model/t5_word_segmented_pair_2_epochs\"\n",
        "reranker_model_type = 't5-small'"
      ],
      "metadata": {
        "id": "_5UVPGyrNxNG"
      },
      "execution_count": null,
      "outputs": []
    },
    {
      "cell_type": "code",
      "source": [
        "def solve(crossword, m_path, a_path, d_path, r_path, reranker_m_type, max_candidate = 50000, score_threshold = 0.5):\n",
        "    solver = BPSolver(\n",
        "                      crossword,\n",
        "                      model_path = m_path,\n",
        "                      ans_tsv_path = a_path,\n",
        "                      dense_embd_path = d_path,\n",
        "                      reranker_path = r_path,\n",
        "                      reranker_model_type = reranker_m_type,\n",
        "                      max_candidates = max_candidate,\n",
        "                      score_improvement_threshold = score_threshold\n",
        "                      )\n",
        "\n",
        "    solution = solver.solve(num_iters = 60, iterative_improvement_steps = 0)\n",
        "    return solution"
      ],
      "metadata": {
        "id": "bKEhrgdiOrge"
      },
      "execution_count": null,
      "outputs": []
    },
    {
      "cell_type": "code",
      "source": [
        "json_puzzle_path = \"/content/crossword_json_15x15_2.json\"\n",
        "puzzle = json_CA_json_converter(json_puzzle_path, True)\n",
        "\n",
        "crossword = Crossword(puzzle)\n",
        "start_t = time.time()\n",
        "output = solve(crossword, model_path, ans_path, dense_embd_path, reranker_path, \"t5-small\", 50000, 0.5)\n",
        "end_t = time.time()\n",
        "\n",
        "print(\"Total time taken: \", end_t - start_t)"
      ],
      "metadata": {
        "colab": {
          "base_uri": "https://localhost:8080/"
        },
        "id": "xILvwj0lOvfG",
        "outputId": "a453715f-d310-4d27-ebf4-1d8790a7233e"
      },
      "execution_count": null,
      "outputs": [
        {
          "output_type": "stream",
          "name": "stderr",
          "text": [
            "WARNING:root:Overriding args parameter value from checkpoint state. Param = do_lower_case, value = True\n",
            "WARNING:root:Overriding args parameter value from checkpoint state. Param = pretrained_model_cfg, value = distilbert-base-uncased\n",
            "WARNING:root:Overriding args parameter value from checkpoint state. Param = encoder_model_type, value = hf_distilbert\n",
            "WARNING:root:Overriding args parameter value from checkpoint state. Param = sequence_length, value = 32\n"
          ]
        },
        {
          "output_type": "stream",
          "name": "stdout",
          "text": [
            "\n",
            "Beginning Belief Propagation iteration steps\n"
          ]
        },
        {
          "output_type": "stream",
          "name": "stderr",
          "text": [
            "100%|███████████████████████████████████████████████████████████████| 60/60 [00:20<00:00,  2.92it/s]\n"
          ]
        },
        {
          "output_type": "stream",
          "name": "stdout",
          "text": [
            "Belief Propagation iteration complete\n",
            "\n",
            "\n",
            "Before II with T5-small: Letters Correct: 0.0% | Words Correct: 0.0%\n",
            "Total time taken:  79.27632594108582\n"
          ]
        }
      ]
    },
    {
      "cell_type": "code",
      "source": [
        "first_pass_grid = output['first pass model']['grid']\n",
        "# second_pass_grid = output['second pass model']['all grids'][0]\n",
        "\n",
        "pprint(first_pass_grid)\n",
        "\n",
        "clue_answer_pair = {}\n",
        "generated_answer_list = []\n",
        "\n",
        "test_grid = first_pass_grid\n",
        "for key, var in crossword.variables.items():\n",
        "  cells_val = var['cells']\n",
        "  word = ''\n",
        "  for cell in cells_val:\n",
        "    word += first_pass_grid[cell[0]][cell[1]]\n",
        "  generated_answer_list.append(word)\n",
        "  clue_answer_pair[key] = {\n",
        "      'clue': var['clue'],\n",
        "      'answer': word\n",
        "  }\n",
        "\n",
        "print(\"Total answers: \", len(generated_answer_list))\n",
        "\n",
        "found_answer = []\n",
        "for answer in generated_answer_list:\n",
        "    if answer.lower() in all_answers:\n",
        "        print(answer)\n",
        "        # print(clue_answer_df[clue_answer_df['Unsegmented Answer'] == answer.lower()]['Clue'].tolist())\n",
        "        found_answer.append(answer)\n",
        "\n",
        "print(\"Actual answers found: \", len(found_answer))"
      ],
      "metadata": {
        "id": "WPw4DiXDQ5OQ",
        "colab": {
          "base_uri": "https://localhost:8080/"
        },
        "outputId": "27a4f6c9-529c-4071-973c-06dd25791cd1"
      },
      "execution_count": null,
      "outputs": [
        {
          "output_type": "stream",
          "name": "stdout",
          "text": [
            "[['N', 'S', 'E', 'K', 'T', '', 'T', 'A', 'S', '', '', 'T', 'D', 'D', 'S'],\n",
            " ['E', 'L', 'C', 'E', 'E', '', 'T', 'M', 'E', 'S', 'B', 'E', 'A', 'E', 'E'],\n",
            " ['R', 'O', 'A', 'N', 'N', '', 'T', 'M', 'E', 'C', 'I', 'C', 'I', 'N', 'S'],\n",
            " ['O', 'O', 'S', 'T', '', 'G', 'E', 'O', 'E', 'A', 'D', '', 'S', 'E', 'E'],\n",
            " ['', 'P', 'H', 'E', 'N', 'O', 'M', '', 'Y', 'T', 'E', '', 'M', 'U', 'I'],\n",
            " ['', '', '', '', 'C', 'R', 'E', 'L', 'E', 'T', '', 'G', 'I', 'R', 'L'],\n",
            " ['', '', 'O', 'W', 'E', 'D', 'T', 'O', '', 'S', 'L', 'U', 'D', 'G', 'E'],\n",
            " ['S', 'E', 'T', 'I', 'N', '', 'L', 'A', 'O', '', 'E', 'R', 'E', 'P', 'T'],\n",
            " ['C', 'R', 'O', 'R', 'E', 'S', '', 'D', 'U', 'S', 'T', 'B', 'L', '', ''],\n",
            " ['R', 'I', 'N', 'K', '', 'O', 'B', 'S', 'T', 'E', 'T', '', '', '', ''],\n",
            " ['A', 'L', 'Y', '', 'B', 'E', 'T', '', 'T', 'G', 'E', 'C', 'A', 'T', ''],\n",
            " ['T', 'R', 'F', '', 'G', 'L', 'E', 'N', 'D', 'A', '', 'R', 'L', 'T', 'S'],\n",
            " ['C', 'O', 'I', 'N', 'T', 'R', 'E', 'A', 'U', '', 'A', 'O', 'D', 'T', 'Y'],\n",
            " ['T', 'H', 'E', 'M', 'A', 'S', 'S', 'E', 'S', '', 'O', 'C', 'A', 'T', 'S'],\n",
            " ['R', 'O', 'L', 'O', '', '', 'N', 'M', 'E', '', 'U', 'I', 'N', 'T', 'T']]\n",
            "Total answers:  72\n",
            "NERO\n",
            "SLOOP\n",
            "ECASH\n",
            "KENTE\n",
            "TEN\n",
            "TAS\n",
            "AMMO\n",
            "SEEEYE\n",
            "TDDS\n",
            "TEC\n",
            "SCATTS\n",
            "BIDE\n",
            "OOST\n",
            "GORD\n",
            "SEE\n",
            "PHENOM\n",
            "NCENE\n",
            "YTE\n",
            "MUI\n",
            "LOADS\n",
            "GIRL\n",
            "OWEDTO\n",
            "SLUDGE\n",
            "LETTE\n",
            "SETIN\n",
            "LAO\n",
            "EREPT\n",
            "CRORES\n",
            "DUSTBL\n",
            "SEGA\n",
            "RINK\n",
            "OBSTET\n",
            "ALY\n",
            "BET\n",
            "CROCI\n",
            "ALDAN\n",
            "TTTTT\n",
            "TRF\n",
            "GLENDA\n",
            "RLTS\n",
            "SYST\n",
            "COINTREAU\n",
            "AOU\n",
            "THEMASSES\n",
            "ROLO\n",
            "NME\n",
            "Actual answers found:  46\n"
          ]
        }
      ]
    },
    {
      "cell_type": "code",
      "source": [],
      "metadata": {
        "id": "lozMmQ6ZXXnr"
      },
      "execution_count": null,
      "outputs": []
    }
  ]
}