{
 "cells": [
  {
   "cell_type": "code",
   "execution_count": 2,
   "metadata": {},
   "outputs": [
    {
     "name": "stdout",
     "output_type": "stream",
     "text": [
      "Collecting pulp\n",
      "  Obtaining dependency information for pulp from https://files.pythonhosted.org/packages/09/d7/57e71e11108203039c895643368c0d1a99fe719a6a80184edf240c33d25f/PuLP-2.8.0-py3-none-any.whl.metadata\n",
      "  Downloading PuLP-2.8.0-py3-none-any.whl.metadata (5.4 kB)\n",
      "Using cached PuLP-2.8.0-py3-none-any.whl (17.7 MB)\n",
      "Installing collected packages: pulp\n",
      "Successfully installed pulp-2.8.0\n"
     ]
    }
   ],
   "source": [
    "!pip install pulp"
   ]
  },
  {
   "cell_type": "code",
   "execution_count": 3,
   "metadata": {},
   "outputs": [],
   "source": [
    "from ipxword import Grid, IPXWordGenerator\n",
    "import time"
   ]
  },
  {
   "cell_type": "code",
   "execution_count": 5,
   "metadata": {},
   "outputs": [
    {
     "name": "stdout",
     "output_type": "stream",
     "text": [
      "GRID:\n",
      "# # - - - \n",
      "- - - - - \n",
      "- - - - - \n",
      "- - - - - \n",
      "- - - # # \n",
      "\n",
      "Number slots: 10\n",
      "Different word lengths possible: {3, 4, 5}\n",
      "Dictionary size after sampling: 3000\n",
      "(Using random word values.)\n",
      "\n",
      "Building...\n",
      "Puzzle status: Optimal\n",
      "\n",
      "Total words: 10\n",
      "Assignments: (index, (slot), word)\n",
      "(123, (4, 'across'), 'ays')\n",
      "(355, (2, 'across'), 'douse')\n",
      "(357, (2, 'down'), 'thuds')\n",
      "(601, (0, 'down'), 'odea')\n",
      "(818, (4, 'down'), 'weed')\n",
      "(845, (1, 'across'), 'ochre')\n",
      "(1537, (0, 'across'), 'taw')\n",
      "(1688, (3, 'down'), 'arse')\n",
      "(1941, (3, 'across'), 'ended')\n",
      "(2538, (1, 'down'), 'cony')\n",
      "Total Time Taken:  612.1661510467529\n"
     ]
    }
   ],
   "source": [
    "start_t = time.time()\n",
    "G = Grid(5, blacksq=[(0,0), (0,1), (4,4), (4,3)])\n",
    "ipx = IPXWordGenerator(G, numk = 3000)\n",
    "ipx.build()\n",
    "ipx.get_puzzle()\n",
    "end_t = time.time()\n",
    "\n",
    "print(\"Total Time Taken: \", end_t - start_t)"
   ]
  },
  {
   "cell_type": "markdown",
   "metadata": {},
   "source": [
    "<hr>"
   ]
  },
  {
   "cell_type": "markdown",
   "metadata": {},
   "source": [
    "Output:\n",
    "```\n",
    "# E H\n",
    "B A Y\n",
    "Y U P\n",
    "```"
   ]
  },
  {
   "cell_type": "markdown",
   "metadata": {},
   "source": [
    "Output:\n",
    "```\n",
    "# T A B\n",
    "F U R Y\n",
    "E B B S\n",
    "E S S #\n",
    "```"
   ]
  },
  {
   "cell_type": "markdown",
   "metadata": {
    "collapsed": true
   },
   "source": [
    "Output:\n",
    "```\n",
    "# # H A W\n",
    "# V I N O\n",
    "H E # O E\n",
    "A R I A #\n",
    "P A T # #\n",
    "```"
   ]
  },
  {
   "cell_type": "code",
   "execution_count": null,
   "metadata": {
    "collapsed": true
   },
   "outputs": [],
   "source": []
  }
 ],
 "metadata": {
  "kernelspec": {
   "display_name": "Python 3 (ipykernel)",
   "language": "python",
   "name": "python3"
  },
  "language_info": {
   "codemirror_mode": {
    "name": "ipython",
    "version": 3
   },
   "file_extension": ".py",
   "mimetype": "text/x-python",
   "name": "python",
   "nbconvert_exporter": "python",
   "pygments_lexer": "ipython3",
   "version": "3.10.11"
  }
 },
 "nbformat": 4,
 "nbformat_minor": 1
}
