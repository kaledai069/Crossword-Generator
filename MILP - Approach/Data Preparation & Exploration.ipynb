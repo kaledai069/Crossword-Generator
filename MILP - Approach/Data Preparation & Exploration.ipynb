{
 "cells": [
  {
   "cell_type": "code",
   "execution_count": 158,
   "id": "428ed2c3",
   "metadata": {},
   "outputs": [],
   "source": [
    "# Import dependencies\n",
    "import pyomo.environ as pyo\n",
    "import pandas as pd\n",
    "import numpy as np\n",
    "import time as tm\n",
    "import os.path\n",
    "import random as rnd\n",
    "import copy\n",
    "import string\n",
    "import matplotlib.pyplot as plt\n",
    "\n",
    "from openpyxl import load_workbook\n",
    "from openpyxl.utils.cell import range_boundaries\n",
    "from grid_generator_latest import generate_grid\n",
    "from collections import Counter"
   ]
  },
  {
   "cell_type": "code",
   "execution_count": 28,
   "id": "50766139",
   "metadata": {},
   "outputs": [],
   "source": [
    "def LoadFromExcel(ExcelFile, Worksheet, Range):\n",
    "    wb = load_workbook(filename=ExcelFile, read_only = True, data_only = True)\n",
    "    ws = wb[Worksheet]\n",
    "    dests = wb.defined_names[Range].destinations\n",
    "    for title, coord in dests:\n",
    "        min_col, min_row, max_col, max_row = range_boundaries(coord)\n",
    "        data = ws.iter_rows(min_row, max_row, min_col, max_col, values_only = True)\n",
    "    df = pd.DataFrame(data)\n",
    "    return df"
   ]
  },
  {
   "cell_type": "code",
   "execution_count": 137,
   "id": "67bff31b",
   "metadata": {},
   "outputs": [],
   "source": [
    "def GetData(WordFile, WordWorksheet, GridFile, GridWorksheet):\n",
    "    Rank = LoadFromExcel(WordFile, WordWorksheet, 'rank')\n",
    "    Frequency = LoadFromExcel(WordFile, WordWorksheet, 'frequency')\n",
    "    Word = LoadFromExcel(WordFile, WordWorksheet, 'word')\n",
    "    Rank.columns = ['Candidate']\n",
    "    Frequency.columns = ['Candidate']\n",
    "    Word.columns = ['Candidate']\n",
    "    \n",
    "    GridWords = LoadFromExcel(GridFile, GridWorksheet, 'NumWords')\n",
    "    AcrossRef = LoadFromExcel(GridFile, GridWorksheet, 'AcrossRef')\n",
    "    AcrossPos = LoadFromExcel(GridFile, GridWorksheet, 'AcrossPos')\n",
    "    DownRef = LoadFromExcel(GridFile, GridWorksheet, 'DownRef')\n",
    "    DownPos = LoadFromExcel(GridFile, GridWorksheet, 'DownPos')\n",
    "    \n",
    "    return Rank, Frequency, Word, GridWords, AcrossRef, AcrossPos, DownRef, DownPos"
   ]
  },
  {
   "cell_type": "code",
   "execution_count": 143,
   "id": "554c9c2c",
   "metadata": {},
   "outputs": [],
   "source": [
    "Lexicon = 'large.xlsx'   # large.xlsx\n",
    "Grid = 'grid-7-2.xlsx'\n",
    "\n",
    "WordWorksheet = 'Data'\n",
    "GridWorksheet = 'Grid'\n",
    "WordFile = os.path.join(os.getcwd() + '\\lexicon', Lexicon)\n",
    "GridFile = os.path.join(os.getcwd() + '\\grid', Grid)\n",
    "\n",
    "Rank, Frequency, Word, GridWords, AcrossRef, AcrossPos, DownRef, DownPos = GetData(WordFile, WordWorksheet, GridFile, GridWorksheet)"
   ]
  },
  {
   "cell_type": "code",
   "execution_count": 144,
   "id": "4f8a94f2",
   "metadata": {},
   "outputs": [],
   "source": [
    "with open(\"large_lexicon.txt\", 'w') as f:\n",
    "    f.write(\"\\n\".join(Word['Candidate'].tolist()))"
   ]
  },
  {
   "cell_type": "code",
   "execution_count": 117,
   "id": "707a26ad",
   "metadata": {},
   "outputs": [],
   "source": [
    "def find_indices(lst, element):\n",
    "    indices = []\n",
    "    start_index = None\n",
    "\n",
    "    for i, value in enumerate(lst):\n",
    "        if value == element:\n",
    "            if start_index is None:\n",
    "                start_index = i\n",
    "        elif start_index is not None:\n",
    "            indices.append((start_index, i - 1))\n",
    "            start_index = None\n",
    "\n",
    "    if start_index is not None:\n",
    "        indices.append((start_index, len(lst) - 1))\n",
    "\n",
    "    return indices\n",
    "\n",
    "def get_grid_data_MILP(size = 7, display_grid = False):\n",
    "    json_data = generate_grid(grid_size = size, b_factor = 6, display_grid = display_grid)\n",
    "    rows, cols = json_data['size']['rows'], json_data['size']['cols']\n",
    "    grid_2d = ['|'.join(json_data['grid'][i:i+cols]).replace('.', '0').split('|') for i in range(0, len(json_data['grid']), rows)]\n",
    "    grid_2d = [[0 if col == '0' else -1 for col in row] for row in grid_2d]\n",
    "    \n",
    "    across_ref_ = copy.deepcopy(grid_2d)\n",
    "    across_pos_ = copy.deepcopy(grid_2d)\n",
    "    down_ref_ = copy.deepcopy(grid_2d)\n",
    "    down_pos_ = copy.deepcopy(grid_2d)\n",
    "\n",
    "    ref_count = 1\n",
    "    pos_count = 1\n",
    "    for i, row in enumerate(grid_2d):\n",
    "        indices = find_indices(row, -1)\n",
    "        for index_tuple in indices:\n",
    "            pos_count = 1\n",
    "            for j in range(index_tuple[0], index_tuple[1] + 1):\n",
    "                across_ref_[i][j] = ref_count\n",
    "                across_pos_[i][j] = pos_count\n",
    "                pos_count += 1\n",
    "            ref_count += 1\n",
    "\n",
    "    for i in range(len(grid_2d)):\n",
    "        for j in range(len(grid_2d[0])):\n",
    "            if down_ref_[i][j] == -1:\n",
    "                pos_count = 1\n",
    "                for k in range(i, len(grid_2d)):\n",
    "                    if down_ref_[k][j] != 0:\n",
    "                        down_ref_[k][j] = ref_count\n",
    "                        down_pos_[k][j] = pos_count\n",
    "                        pos_count += 1\n",
    "                    elif down_ref_[k][j] == 0:\n",
    "                        break\n",
    "                ref_count += 1\n",
    "\n",
    "    return pd.DataFrame(across_ref_), pd.DataFrame(across_pos_), pd.DataFrame(down_ref_), pd.DataFrame(down_pos_), pd.DataFrame([ref_count-1])"
   ]
  },
  {
   "cell_type": "code",
   "execution_count": 118,
   "id": "26ea920c",
   "metadata": {},
   "outputs": [
    {
     "data": {
      "image/png": "[encoded data removed]",
      "text/plain": [
       "<Figure size 600x600 with 1 Axes>"
      ]
     },
     "metadata": {},
     "output_type": "display_data"
    },
    {
     "data": {
      "text/html": [
       "<div>\n",
       "<style scoped>\n",
       "    .dataframe tbody tr th:only-of-type {\n",
       "        vertical-align: middle;\n",
       "    }\n",
       "\n",
       "    .dataframe tbody tr th {\n",
       "        vertical-align: top;\n",
       "    }\n",
       "\n",
       "    .dataframe thead th {\n",
       "        text-align: right;\n",
       "    }\n",
       "</style>\n",
       "<table border=\"1\" class=\"dataframe\">\n",
       "  <thead>\n",
       "    <tr style=\"text-align: right;\">\n",
       "      <th></th>\n",
       "      <th>0</th>\n",
       "    </tr>\n",
       "  </thead>\n",
       "  <tbody>\n",
       "    <tr>\n",
       "      <th>0</th>\n",
       "      <td>22</td>\n",
       "    </tr>\n",
       "  </tbody>\n",
       "</table>\n",
       "</div>"
      ],
      "text/plain": [
       "    0\n",
       "0  22"
      ]
     },
     "execution_count": 118,
     "metadata": {},
     "output_type": "execute_result"
    }
   ],
   "source": [
    "AcrossRef, AcrossPos, DownRef, DownPos, GridWords = get_grid_data_MILP(display_grid = True)"
   ]
  },
  {
   "cell_type": "code",
   "execution_count": 145,
   "id": "abd57528",
   "metadata": {},
   "outputs": [],
   "source": [
    "def get_word_file_MILP(filename):\n",
    "    with open(filename, 'r', encoding='utf-8') as file:\n",
    "        words = file.read().split()\n",
    "\n",
    "    translator = str.maketrans('', '', string.punctuation)\n",
    "    cleaned_words = [word.translate(translator).lower() for word in words]\n",
    "\n",
    "    char_frequencies = Counter(''.join(cleaned_words))\n",
    "\n",
    "    def word_score(word):\n",
    "        return sum(char_frequencies[char] for char in word) / len(word)\n",
    "\n",
    "    word_scores = {word: word_score(word) for word in cleaned_words}\n",
    "\n",
    "    frequency_list = []\n",
    "    word_list = []\n",
    "    for word, score in sorted(word_scores.items(), key=lambda x: x[1], reverse=True):\n",
    "        word_list.append(word)\n",
    "        frequency_list.append(score)\n",
    "\n",
    "    Rank = pd.DataFrame(range(1, len(word_list) + 1), columns = ['Candidate'])\n",
    "    Word = pd.DataFrame(word_list, columns = ['Candidate'])\n",
    "    Frequency = pd.DataFrame(frequency_list, columns = ['Candidate'])\n",
    "    return Rank, Word, Frequency"
   ]
  },
  {
   "cell_type": "markdown",
   "id": "99170997",
   "metadata": {},
   "source": [
    "### Lets the Gutenberg Lexicon and the Large Lexicon used by them"
   ]
  },
  {
   "cell_type": "code",
   "execution_count": 165,
   "id": "f0e5cb4f",
   "metadata": {},
   "outputs": [
    {
     "data": {
      "image/png": "[encoded data removed]",
      "text/plain": [
       "<Figure size 640x480 with 1 Axes>"
      ]
     },
     "metadata": {},
     "output_type": "display_data"
    }
   ],
   "source": [
    "gutenberg_answers = open(\"gutenberg_lexicon.txt\").read().splitlines()\n",
    "answer_len_dict = {}\n",
    "for answer in gutenberg_answers:\n",
    "    if len(answer) in answer_len_dict.keys():\n",
    "        answer_len_dict[len(answer)] += 1\n",
    "    else:\n",
    "        answer_len_dict[len(answer)] = 0\n",
    "        \n",
    "len_count_list = []\n",
    "for ans_len, count in answer_len_dict.items():\n",
    "    len_count_list.append([ans_len, count])\n",
    "    \n",
    "len_count_list.sort(key = lambda x: x[0])\n",
    "len_count = np.array(len_count_list)\n",
    "\n",
    "plt.bar(len_count[:, 0], len_count[:, 1])\n",
    "plt.xticks(len_count[:, 0])\n",
    "plt.show()"
   ]
  }
 ],
 "metadata": {
  "kernelspec": {
   "display_name": "Python 3 (ipykernel)",
   "language": "python",
   "name": "python3"
  },
  "language_info": {
   "codemirror_mode": {
    "name": "ipython",
    "version": 3
   },
   "file_extension": ".py",
   "mimetype": "text/x-python",
   "name": "python",
   "nbconvert_exporter": "python",
   "pygments_lexer": "ipython3",
   "version": "3.11.5"
  }
 },
 "nbformat": 4,
 "nbformat_minor": 5
}
