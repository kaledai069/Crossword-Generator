{
 "cells": [
  {
   "cell_type": "code",
   "execution_count": 1,
   "id": "af1e0bd4",
   "metadata": {},
   "outputs": [],
   "source": [
    "# Import dependencies\n",
    "import pyomo.environ as pyo\n",
    "import pandas as pd\n",
    "import numpy as np\n",
    "import time as tm\n",
    "import os.path\n",
    "import random as rnd\n",
    "\n",
    "from openpyxl import load_workbook\n",
    "from openpyxl.utils.cell import range_boundaries"
   ]
  },
  {
   "cell_type": "code",
   "execution_count": 2,
   "id": "d37630e2",
   "metadata": {},
   "outputs": [],
   "source": [
    "def LoadFromExcel(ExcelFile, Worksheet, Range):\n",
    "    wb = load_workbook(filename=ExcelFile, read_only = True, data_only = True)\n",
    "    ws = wb[Worksheet]\n",
    "    dests = wb.defined_names[Range].destinations\n",
    "    for title, coord in dests:\n",
    "        min_col, min_row, max_col, max_row = range_boundaries(coord)\n",
    "        data = ws.iter_rows(min_row, max_row, min_col, max_col, values_only = True)\n",
    "    df = pd.DataFrame(data)\n",
    "    return df"
   ]
  },
  {
   "cell_type": "code",
   "execution_count": 3,
   "id": "8641c90f",
   "metadata": {},
   "outputs": [],
   "source": [
    "def GetData(WordFile, WordWorksheet, GridFile, GridWorksheet):\n",
    "    Rank = LoadFromExcel(WordFile, WordWorksheet, 'rank')\n",
    "    Frequency = LoadFromExcel(WordFile, WordWorksheet, 'frequency')\n",
    "    Word = LoadFromExcel(WordFile, WordWorksheet, 'word')\n",
    "    Rank.columns = ['Candidate']\n",
    "    Frequency.columns = ['Candidate']\n",
    "    Word.columns = ['Candidate']\n",
    "    \n",
    "    GridWords = LoadFromExcel(GridFile, GridWorksheet, 'NumWords')\n",
    "    AcrossRef = LoadFromExcel(GridFile, GridWorksheet, 'AcrossRef')\n",
    "    AcrossPos = LoadFromExcel(GridFile, GridWorksheet, 'AcrossPos')\n",
    "    DownRef = LoadFromExcel(GridFile, GridWorksheet, 'DownRef')\n",
    "    DownPos = LoadFromExcel(GridFile, GridWorksheet, 'DownPos')\n",
    "    \n",
    "    return Rank, Frequency, Word, GridWords, AcrossRef, AcrossPos, DownRef, DownPos"
   ]
  },
  {
   "cell_type": "code",
   "execution_count": 5,
   "id": "583b0c45",
   "metadata": {},
   "outputs": [],
   "source": [
    "Lexicon = 'gutenberg.xlsx'   # large.xlsx\n",
    "Grid = 'grid-7-1.xlsx'\n",
    "\n",
    "WordWorksheet = 'Data'\n",
    "GridWorksheet = 'Grid'\n",
    "WordFile = os.path.join(os.getcwd() + '\\lexicon', Lexicon)\n",
    "GridFile = os.path.join(os.getcwd() + '\\grid', Grid)\n",
    "\n",
    "Rank, Frequency, Word, GridWords, AcrossRef, AcrossPos, DownRef, DownPos = GetData(WordFile, WordWorksheet, GridFile, GridWorksheet)"
   ]
  },
  {
   "cell_type": "code",
   "execution_count": 14,
   "id": "803b3684",
   "metadata": {},
   "outputs": [
    {
     "data": {
      "text/plain": [
       "'C:\\\\Users\\\\parzi\\\\OneDrive - Tribhuvan University\\\\Desktop\\\\Major Project\\\\CODE\\\\BCS Code\\\\BCS-ALL-Code\\\\Crossword Generator\\\\MILP - Approach\\\\lexicon\\\\gutenberg.xlsx'"
      ]
     },
     "execution_count": 14,
     "metadata": {},
     "output_type": "execute_result"
    }
   ],
   "source": [
    "os.path.join(os.getcwd() + '\\lexicon', Lexicon)"
   ]
  },
  {
   "cell_type": "code",
   "execution_count": 23,
   "id": "ef12bf9e",
   "metadata": {},
   "outputs": [
    {
     "name": "stdout",
     "output_type": "stream",
     "text": [
      "<class 'pandas.core.frame.DataFrame'>\n"
     ]
    },
    {
     "data": {
      "text/html": [
       "<div>\n",
       "<style scoped>\n",
       "    .dataframe tbody tr th:only-of-type {\n",
       "        vertical-align: middle;\n",
       "    }\n",
       "\n",
       "    .dataframe tbody tr th {\n",
       "        vertical-align: top;\n",
       "    }\n",
       "\n",
       "    .dataframe thead th {\n",
       "        text-align: right;\n",
       "    }\n",
       "</style>\n",
       "<table border=\"1\" class=\"dataframe\">\n",
       "  <thead>\n",
       "    <tr style=\"text-align: right;\">\n",
       "      <th></th>\n",
       "      <th>Candidate</th>\n",
       "    </tr>\n",
       "  </thead>\n",
       "  <tbody>\n",
       "    <tr>\n",
       "      <th>0</th>\n",
       "      <td>the</td>\n",
       "    </tr>\n",
       "    <tr>\n",
       "      <th>1</th>\n",
       "      <td>of</td>\n",
       "    </tr>\n",
       "    <tr>\n",
       "      <th>2</th>\n",
       "      <td>and</td>\n",
       "    </tr>\n",
       "    <tr>\n",
       "      <th>3</th>\n",
       "      <td>to</td>\n",
       "    </tr>\n",
       "    <tr>\n",
       "      <th>4</th>\n",
       "      <td>in</td>\n",
       "    </tr>\n",
       "    <tr>\n",
       "      <th>5</th>\n",
       "      <td>that</td>\n",
       "    </tr>\n",
       "    <tr>\n",
       "      <th>6</th>\n",
       "      <td>was</td>\n",
       "    </tr>\n",
       "    <tr>\n",
       "      <th>7</th>\n",
       "      <td>his</td>\n",
       "    </tr>\n",
       "    <tr>\n",
       "      <th>8</th>\n",
       "      <td>he</td>\n",
       "    </tr>\n",
       "    <tr>\n",
       "      <th>9</th>\n",
       "      <td>it</td>\n",
       "    </tr>\n",
       "  </tbody>\n",
       "</table>\n",
       "</div>"
      ],
      "text/plain": [
       "  Candidate\n",
       "0       the\n",
       "1        of\n",
       "2       and\n",
       "3        to\n",
       "4        in\n",
       "5      that\n",
       "6       was\n",
       "7       his\n",
       "8        he\n",
       "9        it"
      ]
     },
     "execution_count": 23,
     "metadata": {},
     "output_type": "execute_result"
    }
   ],
   "source": [
    "wb = load_workbook(filename=WordFile, read_only = True, data_only = True)\n",
    "ws = wb[WordWorksheet]\n",
    "dests = wb.defined_names['word'].destinations\n",
    "for title, coord in dests:\n",
    "    min_col, min_row, max_col, max_row = range_boundaries(coord)\n",
    "    data = ws.iter_rows(min_row, max_row, min_col, max_col, values_only = True)\n",
    "df = pd.DataFrame(data)\n",
    "df.columns = ['Candidate']\n",
    "print(type(df))\n",
    "df.head(10)"
   ]
  }
 ],
 "metadata": {
  "kernelspec": {
   "display_name": "Python 3 (ipykernel)",
   "language": "python",
   "name": "python3"
  },
  "language_info": {
   "codemirror_mode": {
    "name": "ipython",
    "version": 3
   },
   "file_extension": ".py",
   "mimetype": "text/x-python",
   "name": "python",
   "nbconvert_exporter": "python",
   "pygments_lexer": "ipython3",
   "version": "3.11.5"
  }
 },
 "nbformat": 4,
 "nbformat_minor": 5
}
