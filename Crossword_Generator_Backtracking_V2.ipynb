{
  "cells": [
    {
      "cell_type": "markdown",
      "metadata": {
        "id": "view-in-github",
        "colab_type": "text"
      },
      "source": [
        "<a href=\"https://colab.research.google.com/github/kaledai069/Crossword-Generator/blob/master/Crossword_Generator_Backtracking_V2.ipynb\" target=\"_parent\"><img src=\"https://colab.research.google.com/assets/colab-badge.svg\" alt=\"Open In Colab\"/></a>"
      ]
    },
    {
      "cell_type": "code",
      "execution_count": 1,
      "metadata": {
        "colab": {
          "base_uri": "https://localhost:8080/"
        },
        "id": "vcaQ3WW0rIFH",
        "outputId": "0b58dbe8-c24d-4754-9373-89b419190f1d"
      },
      "outputs": [
        {
          "output_type": "stream",
          "name": "stdout",
          "text": [
            "Mounted at /content/gdrive\n"
          ]
        }
      ],
      "source": [
        "from google.colab import drive\n",
        "drive.mount(\"/content/gdrive\")"
      ]
    },
    {
      "cell_type": "code",
      "execution_count": 2,
      "metadata": {
        "colab": {
          "base_uri": "https://localhost:8080/"
        },
        "id": "-JDP6Vf6rzje",
        "outputId": "3487adf1-62c9-46d4-d133-2e34c3aa72d8"
      },
      "outputs": [
        {
          "output_type": "stream",
          "name": "stdout",
          "text": [
            "  Preparing metadata (setup.py) ... \u001b[?25l\u001b[?25hdone\n",
            "  Building wheel for puzpy (setup.py) ... \u001b[?25l\u001b[?25hdone\n"
          ]
        }
      ],
      "source": [
        "!pip install -q git+https://github.com/alexdej/puzpy.git"
      ]
    },
    {
      "cell_type": "markdown",
      "metadata": {
        "id": "p9C4OJCnr8lM"
      },
      "source": [
        "### Relevant Imports"
      ]
    },
    {
      "cell_type": "code",
      "execution_count": 3,
      "metadata": {
        "id": "Cy-ScI_QrQ1H"
      },
      "outputs": [],
      "source": [
        "import copy\n",
        "import random\n",
        "import heapq\n",
        "import time\n",
        "import pandas as pd\n",
        "import requests\n",
        "import json\n",
        "import os\n",
        "import re\n",
        "import numpy as np\n",
        "import matplotlib.pyplot as plt\n",
        "import puz\n",
        "import logging\n",
        "import pickle\n",
        "\n",
        "from functools import lru_cache\n",
        "from pprint import pprint\n",
        "from PIL import Image\n",
        "from collections import deque, Counter\n",
        "from queue import PriorityQueue\n",
        "from pprint import pprint\n",
        "from tqdm import tqdm\n",
        "from PIL import Image, ImageDraw, ImageFont\n",
        "from IPython.display import display"
      ]
    },
    {
      "cell_type": "markdown",
      "metadata": {
        "id": "R8rsSvnhsH4b"
      },
      "source": [
        "### Crossword: Data Structure and Variable Definition"
      ]
    },
    {
      "cell_type": "code",
      "execution_count": 5,
      "metadata": {
        "id": "wsHgBkt5sGzq"
      },
      "outputs": [],
      "source": [
        "class Variable():\n",
        "\n",
        "    ACROSS = \"across\"\n",
        "    DOWN = \"down\"\n",
        "\n",
        "    def __init__(self, i, j, direction, length):\n",
        "        \"\"\"Create a new variable with starting point, direction, and length.\"\"\"\n",
        "        self.i = i\n",
        "        self.j = j\n",
        "        self.direction = direction\n",
        "        self.length = length\n",
        "        self.cells = []\n",
        "        for k in range(self.length):\n",
        "            self.cells.append(\n",
        "                (self.i + (k if self.direction == Variable.DOWN else 0),\n",
        "                 self.j + (k if self.direction == Variable.ACROSS else 0))\n",
        "            )\n",
        "\n",
        "    def __hash__(self):\n",
        "        return hash((self.i, self.j, self.direction, self.length))\n",
        "\n",
        "    def __eq__(self, other):\n",
        "        return (\n",
        "            (self.i == other.i) and\n",
        "            (self.j == other.j) and\n",
        "            (self.direction == other.direction) and\n",
        "            (self.length == other.length)\n",
        "        )\n",
        "\n",
        "    def __str__(self):\n",
        "        return f\"({self.i}, {self.j}) {self.direction} : {self.length}\"\n",
        "\n",
        "    def __repr__(self):\n",
        "        direction = repr(self.direction)\n",
        "        return f\"Variable({self.i}, {self.j}, {direction}, {self.length})\"\n",
        "\n",
        "class Crossword():\n",
        "    def __init__(self, grid, words_file, file_path = True):\n",
        "        self.structure = []\n",
        "\n",
        "        self.height = len(grid) # the number of rows in the grid\n",
        "        self.width = len(grid[0]) # the number of columns in the grid\n",
        "        for i in range(len(grid)):\n",
        "            row = []\n",
        "            for j in range(len(grid[0])):\n",
        "                if grid[i][j] == '':\n",
        "                  row.append(False)\n",
        "                else:\n",
        "                  row.append(True)\n",
        "            self.structure.append(row)\n",
        "\n",
        "        if not file_path:\n",
        "            self.words = [word.upper() for word in words_file]\n",
        "\n",
        "        else:\n",
        "            # Save vocabulary list\n",
        "            with open(words_file) as f:\n",
        "                self.words = set(f.read().upper().splitlines()) # to remove all the duplicates\n",
        "                self.words = list(self.words)\n",
        "                for _ in range(5):\n",
        "                    random.shuffle(self.words)\n",
        "            self.words = set(self.words)\n",
        "\n",
        "        # Determine variable set\n",
        "        self.variables = set()\n",
        "\n",
        "        for i in range(self.height):\n",
        "            for j in range(self.width):\n",
        "\n",
        "                # Vertical words\n",
        "                starts_word = (\n",
        "                    self.structure[i][j]\n",
        "                    and (i == 0 or not self.structure[i - 1][j])\n",
        "                )\n",
        "                if starts_word:\n",
        "                    length = 1\n",
        "                    for k in range(i + 1, self.height):\n",
        "                        if self.structure[k][j]:\n",
        "                            length += 1\n",
        "                        else:\n",
        "                            break\n",
        "                    if length > 1:\n",
        "                        self.variables.add(Variable(\n",
        "                            i=i, j=j,\n",
        "                            direction=Variable.DOWN,\n",
        "                            length=length\n",
        "                        ))\n",
        "\n",
        "                # Horizontal words\n",
        "                starts_word = (\n",
        "                    self.structure[i][j]\n",
        "                    and (j == 0 or not self.structure[i][j - 1])\n",
        "                )\n",
        "                if starts_word:\n",
        "                    length = 1\n",
        "                    for k in range(j + 1, self.width):\n",
        "                        if self.structure[i][k]:\n",
        "                            length += 1\n",
        "                        else:\n",
        "                            break\n",
        "                    if length > 1:\n",
        "                        self.variables.add(Variable(\n",
        "                            i=i, j=j,\n",
        "                            direction=Variable.ACROSS,\n",
        "                            length=length\n",
        "                        ))\n",
        "\n",
        "        # Compute overlaps for each word\n",
        "        # For any pair of variables v1, v2, their overlap is either:\n",
        "        #    None, if the two variables do not overlap; or\n",
        "        #    (i, j), where v1's ith character overlaps v2's jth character\n",
        "        self.overlaps = dict()\n",
        "        self.overlaps_positions = dict()\n",
        "        for v1 in self.variables:\n",
        "            for v2 in self.variables:\n",
        "                if v1 == v2:\n",
        "                    continue\n",
        "                cells1 = v1.cells\n",
        "                cells2 = v2.cells\n",
        "                intersection = set(cells1).intersection(cells2)\n",
        "                if not intersection:\n",
        "                    self.overlaps[v1, v2] = None\n",
        "                else:\n",
        "                    intersection = intersection.pop()\n",
        "                    self.overlaps[v1, v2] = (\n",
        "                        cells1.index(intersection),\n",
        "                        cells2.index(intersection)\n",
        "                    )\n",
        "                    for cell in cells1:\n",
        "                        for cell_ in cells2:\n",
        "                            if cell == cell_:\n",
        "                                self.overlaps_positions[v1, v2] = cell\n",
        "                                break\n",
        "\n",
        "    def neighbors(self, var):\n",
        "        \"\"\"Given a variable, return set of overlapping variables.\"\"\"\n",
        "        return set(\n",
        "            v for v in self.variables\n",
        "            if v != var and self.overlaps[v, var]\n",
        "        )"
      ]
    },
    {
      "cell_type": "code",
      "execution_count": 56,
      "metadata": {
        "id": "gmvWLd1IsAd7"
      },
      "outputs": [],
      "source": [
        "class CrosswordCreator():\n",
        "\n",
        "    def __init__(self, crossword, do_random = False):\n",
        "        \"\"\"\n",
        "        Create new CSP crossword generate.\n",
        "        \"\"\"\n",
        "        self.crossword = crossword\n",
        "        self.back_track_count = 0\n",
        "        self.memoized_back_track_count = 0\n",
        "        self.states = []\n",
        "        self.do_random = do_random\n",
        "        self.memoization_cache = dict()\n",
        "        self.t_revise_time = 0\n",
        "        self.t_revise_called = 0\n",
        "        self.consistency_elapsed_time = 0\n",
        "        self.consistency_called = 0\n",
        "        self.assignment = {}\n",
        "        self.assignment_stack = []\n",
        "        self.assignment_order_list = []\n",
        "\n",
        "        # setting up the domains for each of the variables\n",
        "        self.domains = {\n",
        "            var: [self.get_required_length_answers(var.length)]\n",
        "            for var in self.crossword.variables\n",
        "        }\n",
        "\n",
        "        self.temp_assignment = dict()\n",
        "        while self.select_unassigned_variable(self.temp_assignment) is not None:\n",
        "            var = self.select_unassigned_variable(self.temp_assignment)\n",
        "            answer = 'A' * var.length\n",
        "            self.temp_assignment[var] = answer\n",
        "            self.assignment_order_list.append(var)\n",
        "\n",
        "        # print(self.assignment_order_list)\n",
        "\n",
        "    # enforcing the node consistency here\n",
        "    def get_required_length_answers(self, ans_length):\n",
        "        output = []\n",
        "        for word in self.crossword.words:\n",
        "            if len(word) == ans_length:\n",
        "                output.append(word.upper())\n",
        "        # random.shuffle(output)\n",
        "        # output = output[:5000]\n",
        "        # using set for the domains, do randomizing here is no advantage\n",
        "        return set(output)  # lets get the domain answers in list format\n",
        "\n",
        "    def letter_grid(self, assignment):\n",
        "        \"\"\"\n",
        "            Return 2D array representing a given assignment.\n",
        "        \"\"\"\n",
        "        letters = [\n",
        "            [None for _ in range(self.crossword.width)]\n",
        "            for _ in range(self.crossword.height)\n",
        "        ]\n",
        "        for variable, word in assignment.items():\n",
        "            direction = variable.direction\n",
        "            for k in range(len(word)):\n",
        "                i = variable.i + (k if direction == Variable.DOWN else 0)\n",
        "                j = variable.j + (k if direction == Variable.ACROSS else 0)\n",
        "                letters[i][j] = word[k]\n",
        "        return letters\n",
        "\n",
        "    def print(self, assignment):\n",
        "        \"\"\"\n",
        "            Print crossword assignment to the terminal.\n",
        "        \"\"\"\n",
        "        letters = self.letter_grid(assignment)\n",
        "        for i in range(self.crossword.height):\n",
        "            for j in range(self.crossword.width):\n",
        "                if self.crossword.structure[i][j]:\n",
        "                    print(letters[i][j] or \" \", end=\"\")\n",
        "                else:\n",
        "                    print(\"██\", end=\"\")\n",
        "            print()\n",
        "\n",
        "    def write_info(self, message, filename = '/content/log_info.txt', filemode = 'a'):\n",
        "        with open(filename, filemode) as f:\n",
        "            f.write(message)\n",
        "\n",
        "    def display_only_grid(self, assignment, block_size = 25, f_size = 15, filename = None):\n",
        "\n",
        "        \"\"\"\n",
        "            Save crossword assignment to an image file.\n",
        "        \"\"\"\n",
        "        cell_size = block_size\n",
        "        cell_border = 2\n",
        "        interior_size = cell_size - 2 * cell_border\n",
        "        letters = self.letter_grid(assignment)\n",
        "\n",
        "        # Create a blank canvas\n",
        "        img = Image.new(\n",
        "            \"RGB\",\n",
        "            (self.crossword.width * cell_size,\n",
        "             self.crossword.height * cell_size),\n",
        "            \"black\"\n",
        "        )\n",
        "        font = ImageFont.truetype(\"/content/gdrive/MyDrive/Crossword Generator/Roboto-Regular.ttf\", f_size)\n",
        "        draw = ImageDraw.Draw(img)\n",
        "\n",
        "        for i in range(self.crossword.height):\n",
        "            for j in range(self.crossword.width):\n",
        "\n",
        "                rect = [\n",
        "                    (j * cell_size + cell_border,\n",
        "                     i * cell_size + cell_border),\n",
        "                    ((j + 1) * cell_size - cell_border,\n",
        "                     (i + 1) * cell_size - cell_border)\n",
        "                ]\n",
        "                if self.crossword.structure[i][j]:\n",
        "                    draw.rectangle(rect, fill=\"white\")\n",
        "                    if letters[i][j]:\n",
        "                        _, _, w, h = draw.textbbox((0, 0), letters[i][j], font=font)\n",
        "                        draw.text(\n",
        "                            (rect[0][0] + ((interior_size - w) / 2),\n",
        "                             rect[0][1] + ((interior_size - h) / 2) - 5),\n",
        "                            letters[i][j], fill=\"black\", font=font\n",
        "                        )\n",
        "        if filename is not None:\n",
        "            img.save(filename)\n",
        "        return img\n",
        "\n",
        "    def print_domain_info(self):\n",
        "        '''\n",
        "            print the variable information with its present domain size.\n",
        "        '''\n",
        "        for var in self.crossword.variables:\n",
        "            print(f\"Cell Position: ({var.i, var.j}) | Direction: {var.direction.upper()} | Length: {var.length} --> Domain Size: {len(self.domains[var][-1])}\")\n",
        "\n",
        "    ### here starts the main solving category\n",
        "    def solve(self):\n",
        "        \"\"\"\n",
        "            Enforce node and arc consistency, and then solve the CSP.\n",
        "        \"\"\"\n",
        "        print(\"Before: Domain sizes Arc-Consistency (Pre-Processing Step): \")\n",
        "        self.print_domain_info()\n",
        "        self.ac3()\n",
        "        print(\"\\nAfter: Domain sizes Arc-Consistency (Pre-Processing Step): \")\n",
        "        self.print_domain_info()\n",
        "\n",
        "        # back-tracking starts here\n",
        "        return self.backtrack(dict())\n",
        "\n",
        "    def enforce_node_consistency(self):\n",
        "        \"\"\"\n",
        "        Update `self.domains` such that each variable is node-consistent.\n",
        "        (Remove any values that are inconsistent with a variable's unary\n",
        "         constraints; in this case, the length of the word.)\n",
        "        \"\"\"\n",
        "        for variable in self.crossword.variables:\n",
        "            valid_words = set()\n",
        "            for word in self.domains[variable][-1]:\n",
        "                if len(word) == variable.length:\n",
        "                    valid_words.add(word)\n",
        "            self.domains[variable][-1] = valid_words\n",
        "\n",
        "    def revise(self, x, y, forward_checking = False):\n",
        "        \"\"\"\n",
        "            Make variable `x` arc consistent with variable `y`.\n",
        "            To do so, remove values from `self.domains[x]` for which there is no\n",
        "            possible corresponding value for `y` in `self.domains[y]`.\n",
        "\n",
        "            Return True if a revision was made to the domain of `x`; return\n",
        "            False if no revision was made.\n",
        "        \"\"\"\n",
        "\n",
        "        start_t = time.time()\n",
        "        revised = False\n",
        "        overlap = self.crossword.overlaps[x, y]\n",
        "\n",
        "        if overlap:\n",
        "            y_chars = set(word[overlap[1]] for word in self.domains[y][-1])  # Use a set for faster membership tests\n",
        "            x_domain = self.domains[x][-1]\n",
        "\n",
        "            # Optimize: Use list comprehension for faster filtering\n",
        "            x_domain = {word for word in x_domain if word[overlap[0]] in y_chars}\n",
        "\n",
        "            if len(x_domain) < len(self.domains[x][-1]):\n",
        "                revised = True\n",
        "                if forward_checking:\n",
        "                    self.domains[x].append(x_domain)\n",
        "                else:\n",
        "                    self.domains[x][-1] = x_domain\n",
        "\n",
        "        end_t = time.time()\n",
        "        self.t_revise_time += end_t - start_t\n",
        "        self.t_revise_called += 1\n",
        "\n",
        "        return revised\n",
        "\n",
        "    def ac3(self, arcs=None, f_checking = False):\n",
        "        if arcs is None:\n",
        "            arcs = deque([(v1, v2) for v1 in self.crossword.variables for v2 in self.crossword.neighbors(v1)])\n",
        "        else:\n",
        "            arcs = deque(arcs)\n",
        "\n",
        "        revised_arcs = set()\n",
        "\n",
        "        while arcs:\n",
        "            x, y = arcs.popleft()  # Efficient pop from the left\n",
        "\n",
        "            # check if the arc has already been revised\n",
        "            if (x, y) in revised_arcs:\n",
        "                continue\n",
        "\n",
        "            if self.revise(x, y, forward_checking = f_checking):\n",
        "                if len(self.domains[x][-1]) == 0:\n",
        "                    return False\n",
        "                revised_arcs.add((x, y))\n",
        "                for z in self.crossword.neighbors(x) - {y}:\n",
        "                    arcs.append((z, x))\n",
        "                    revised_arcs.add((z, x))\n",
        "        return True\n",
        "\n",
        "    ## assignment_complete checkup - shortcut way\n",
        "    # def assignment_complete(self, assignment):\n",
        "    #     self.ASSIGNMENT_COUNT += 1\n",
        "    #     self.states.append(assignment)\n",
        "    #     if len(assignment.keys()) / len(self.crossword.variables) > 0.9:\n",
        "    #         print(assignment)\n",
        "    #         return True\n",
        "    #     return len(assignment.keys()) == len(self.crossword.variables)\n",
        "\n",
        "    # assigment_complete checkup - longcut way\n",
        "    def assignment_complete(self, assignment):\n",
        "        \"\"\"\n",
        "            Return True if `assignment` is complete (i.e., assigns a value to each\n",
        "            crossword variable); return False otherwise.\n",
        "        \"\"\"\n",
        "        # self.ASSIGNMENT_COUNT += 1\n",
        "        self.back_track_count += 1\n",
        "        self.states.append(assignment.copy())\n",
        "        # if len(assignment.keys()) / len(self.crossword.variables) >= 9.0:\n",
        "        #     return True\n",
        "\n",
        "        complete = True\n",
        "        vars_in_assignment = set(var for var in assignment)\n",
        "        # Checking if all vars in the crossword has been assigned\n",
        "        if vars_in_assignment != self.crossword.variables:\n",
        "            complete = False\n",
        "        for var in assignment:\n",
        "            # making sure no var is empty\n",
        "            # assert isinstance(self.assignment[var], str)\n",
        "            if not assignment[var]:\n",
        "                complete = False\n",
        "        return complete\n",
        "\n",
        "    # phind AI\n",
        "    def consistent(self, assignment):\n",
        "        \"\"\"\n",
        "            Return True if `assignment` is consistent (i.e., words fit in crossword\n",
        "            puzzle without conflicting characters); return False otherwise.\n",
        "        \"\"\"\n",
        "        start_t = time.time()\n",
        "        values = set()\n",
        "        for var, word in assignment.items():\n",
        "            if word in values or len(word) != var.length:\n",
        "                end_t = time.time()\n",
        "                self.consistency_elapsed_time += end_t - start_t\n",
        "                self.consistency_called += 1\n",
        "                return False\n",
        "            values.add(word)\n",
        "            for neighbor in self.crossword.neighbors(var):\n",
        "                overlap = self.crossword.overlaps[var, neighbor]\n",
        "                if neighbor in assignment:\n",
        "                    if assignment[var][overlap[0]] != assignment[neighbor][overlap[1]]:\n",
        "                        end_t = time.time()\n",
        "                        self.consistency_elapsed_time += end_t - start_t\n",
        "                        self.consistency_called += 1\n",
        "                        return False\n",
        "        end_t = time.time()\n",
        "        self.consistency_elapsed_time += end_t - start_t\n",
        "        self.consistency_called += 1\n",
        "        return True\n",
        "\n",
        "    def order_domain_values(self, var, assignment, temp_var_domain):\n",
        "        # start_t = time.time()\n",
        "        values_penalty = Counter()\n",
        "        for neighbor in self.crossword.neighbors(var):\n",
        "            if neighbor not in assignment:\n",
        "                overlap = self.crossword.overlaps[var, neighbor]\n",
        "                neighbor_list = [value[overlap[1]] for value in list(self.domains[neighbor][-1])]\n",
        "\n",
        "                for value in temp_var_domain:\n",
        "                    letter_to_be_searched = neighbor_list.count(value[overlap[0]])\n",
        "                    values_penalty[value] += len(neighbor_list) - letter_to_be_searched\n",
        "\n",
        "        priority_queue = [(-values_penalty[value], value) for value in temp_var_domain]\n",
        "        heapq.heapify(priority_queue)\n",
        "        # end_t = time.time()\n",
        "        # print(\"Ordering the domain values: \", end_t - start_t)\n",
        "        return [value for _, value in priority_queue]\n",
        "\n",
        "    # def select_unassigned_variable(self, assignment):\n",
        "    #     \"\"\"\n",
        "    #         Ordering:\n",
        "    #           Return an unassigned variable not already part of `assignment`.\n",
        "    #           Choose the variable with the minimum number of remaining values - MRV\n",
        "    #           in its domain. If there is a tie, choose the variable with the highest\n",
        "    #           degree. If there is a tie, any of the tied variables are acceptable\n",
        "    #           return values.\n",
        "    #     \"\"\"\n",
        "    #     var_penalty = {}\n",
        "    #     for var in self.crossword.variables:\n",
        "    #         if var not in assignment:\n",
        "    #             var_penalty[var] = len(self.domains[var][-1])\n",
        "    #             # var_penalty[var] = var.length\n",
        "    #             # var_penalty[var] = len(self.crossword.neighbors(var))\n",
        "    #     vars = sorted(var_penalty, key= lambda v: var_penalty[v], reverse = True)\n",
        "\n",
        "    #     # if len(vars) > 1 and var_penalty[vars[0]] == var_penalty[vars[1]]:\n",
        "    #     #     # Check number of neighbors and return highest degree\n",
        "    #     #     if len(self.crossword.neighbors(vars[0])) < len(self.crossword.neighbors(vars[1])):\n",
        "    #     #         return vars[1]\n",
        "    #     return vars[0]\n",
        "\n",
        "    # smart-choosing approach\n",
        "    def select_unassigned_variable(self, assignment):\n",
        "        ## DEBUG purpose\n",
        "        if len(assignment.keys()) == len(self.crossword.variables):\n",
        "            return None\n",
        "\n",
        "        # if it is choosing unassigned variable for the firs time then\n",
        "        var_penalty = {}\n",
        "        if len(assignment.keys()) == 0:\n",
        "            for var in self.crossword.variables:\n",
        "                var_penalty[var] = len(self.crossword.neighbors(var))\n",
        "            vars = sorted(var_penalty, key = lambda v: var_penalty[v], reverse = True)\n",
        "\n",
        "            return vars[0] # -> if choosing for the first time, then choose the one with the maximum attached neighbors\n",
        "\n",
        "        else:\n",
        "            # lets find the slot that has the most engaging assignment at first,\n",
        "            # if not engaging assignment is found then look for the next in the assignment stack\n",
        "            for var in self.crossword.variables:\n",
        "                var_penalty[var] = [0, 0]\n",
        "                if var not in assignment:\n",
        "                    for neighbor in self.crossword.neighbors(var):\n",
        "                        if neighbor in assignment:\n",
        "                            var_penalty[var][0] += 1\n",
        "                            var_penalty[var][1] = var_penalty[var][0] / var.length\n",
        "\n",
        "            for var, (count, percentage) in var_penalty.items():\n",
        "                if count > 1:\n",
        "                    vars = sorted(var_penalty, key = lambda v: var_penalty[v][1], reverse = True)\n",
        "                    return vars[0]\n",
        "\n",
        "            var_penalty = {}\n",
        "            for var_assignment in self.assignment_stack:\n",
        "                var_penalty = {}\n",
        "                for neighbor in self.crossword.neighbors(var_assignment):\n",
        "                    if neighbor not in assignment:\n",
        "                        var_penalty[neighbor] = len(self.crossword.neighbors(neighbor))\n",
        "                if len(var_penalty.keys()) != 0:\n",
        "                    vars = sorted(var_penalty, key = lambda v: var_penalty[v], reverse = True)\n",
        "                    return vars[0]\n",
        "\n",
        "            # previous_var = self.assignment_stack[-1]\n",
        "            # for neighbor in self.crossword.neighbors(previous_var)\n",
        "            #     if neighbor not in assignment:\n",
        "            #         var_penalty[neighbor] = len(self.crossword.neighbors(neighbor))\n",
        "\n",
        "            if len(var_penalty.keys()) == 0:\n",
        "                for var in self.crossword.variables:\n",
        "                    if var not in assignment:\n",
        "                        var_penalty[var] = len(self.crossword.neighbors(var))\n",
        "                vars = sorted(var_penalty, key = lambda v: var_penalty[v], reverse = True)\n",
        "                return vars[0]\n",
        "\n",
        "            else:\n",
        "                vars = sorted(var_penalty, key = lambda v: var_penalty[v], reverse = True)\n",
        "                return vars[0]\n",
        "\n",
        "    # random-choosing approach\n",
        "    # def select_unassigned_variable(self, assignment):\n",
        "    #     unassigned_variable_list = []\n",
        "    #     for var in self.crossword.variables:\n",
        "    #         if var not in assignment:\n",
        "    #             unassigned_variable_list.append(var)\n",
        "\n",
        "    #     return random.choice(unassigned_variable_list)\n",
        "\n",
        "    # @lru_cache(None)\n",
        "    def backtrack(self, assignment, assigned_var = None):\n",
        "        \"\"\"\n",
        "            Using Backtracking Search, take as input a partial assignment for the\n",
        "            crossword and return a complete assignment if possible to do so.\n",
        "\n",
        "            `assignment` is a mapping from variables (keys) to words (values).\n",
        "\n",
        "            If no assignment is possible, return None.\n",
        "        \"\"\"\n",
        "        if self.assignment_complete(assignment):\n",
        "            print(assignment)\n",
        "            return assignment  # base case\n",
        "\n",
        "        # lets have some caching done here\n",
        "        assignment_key = frozenset(assignment.items())\n",
        "        if assignment_key in self.memoization_cache:\n",
        "            # self.ASSIGNMENT_COUNT += 1\n",
        "            self.memoized_back_track_count += 1\n",
        "            return self.memoization_cache[assignment_key]\n",
        "\n",
        "        # selecting a new variable\n",
        "        var = self.select_unassigned_variable(assignment)\n",
        "\n",
        "        did_shorten_domain = False\n",
        "\n",
        "        temp_domain_var = self.domains[var][-1].copy()\n",
        "\n",
        "        # print(var, \"Before: \", len(temp_domain_var))\n",
        "        self.write_info(message = f\"{var} | Before: {len(temp_domain_var)}\\n\")\n",
        "        if len(assignment.keys()) > 0:\n",
        "            for variable in self.crossword.variables:\n",
        "                if var != variable and variable in assignment.keys():\n",
        "                    overlap = self.crossword.overlaps[var, variable]\n",
        "                    if overlap:\n",
        "                        # print(\"Inside the overlap function!!!\")\n",
        "                        ref_cross_section_word = assignment[variable]\n",
        "                        ref_intersection_letter = ref_cross_section_word[overlap[1]]\n",
        "\n",
        "                        # Filter the words in the domain of var\n",
        "                        did_shorten_domain = True\n",
        "                        temp_domain_var = {word for word in temp_domain_var if word[overlap[0]] == ref_intersection_letter}\n",
        "\n",
        "        # print(var, \"After: \", len(temp_domain_var))\n",
        "        self.write_info(message = f\"{var} | After: {len(temp_domain_var)}\\n\")\n",
        "\n",
        "        if did_shorten_domain:\n",
        "            if len(temp_domain_var) == 0:\n",
        "                # print(\"The temporary domain var is Empty\")\n",
        "                self.memoization_cache[assignment_key] = None\n",
        "                return None\n",
        "            else:\n",
        "                self.domains[var].append(temp_domain_var)\n",
        "\n",
        "        '''\n",
        "        APPROACH - 1: Arc-Consistency - 3\n",
        "        # lets make the arc-consistency work with ordered_list\n",
        "        # first find the index of unassigned var in the assignment_order_list\n",
        "        revised_neighbor_list = set()\n",
        "        arc_list = deque()\n",
        "        initial_selected_var_index = self.assignment_order_list.index(var)\n",
        "        for remaining_var in self.assignment_order_list[initial_selected_var_index + 1: ]:\n",
        "            if remaining_var in self.crossword.neighbors(var):\n",
        "                if remaining_var not in assignment:\n",
        "                    arc_list.append((remaining_var, var, True))\n",
        "\n",
        "        while arc_list:\n",
        "            x, y, do_fc = arc_list.pop()\n",
        "            if self.revise(x, y, forward_checking = do_fc):\n",
        "                revised_neighbor_list.add(x)\n",
        "                selected_var_index = self.assignment_order_list.index(x)\n",
        "\n",
        "                for neighbor in self.crossword.neighbors(x) - {y}:\n",
        "                    if neighbor in assignment:\n",
        "                        arc_list.append((x, neighbor, False))\n",
        "                    else:\n",
        "                        arc_list.append((neighbor, x, True))\n",
        "\n",
        "                # for remaining_var in self.assignment_order_list[selected_var_index + 1: ]:\n",
        "                #     if remaining_var in self.crossword.neighbors(x):\n",
        "                #         if remaining_var not in assignment:\n",
        "                #             arc_list.append((remaining_var, x))\n",
        "\n",
        "        for var_ in revised_neighbor_list:\n",
        "            if len(self.domains[var_][-1]) == 0:\n",
        "                for n in revised_neighbor_list:\n",
        "                    self.domains[n].pop()\n",
        "                revised_neighbor_list = set()\n",
        "                self.write_info(message = \"Getting out because of arc-consistency!!!\")\n",
        "                return None\n",
        "        '''\n",
        "\n",
        "        '''\n",
        "        APPROACH 2 - Arc-Consistency 3 Modified version\n",
        "        revised_neighbor_list = []\n",
        "        # lets insert the ac3-arc consistency in the back-track recursive loop\n",
        "        arc_list = deque([(neighbor, var) for neighbor in self.crossword.neighbors(var)])\n",
        "\n",
        "        revised_neighbor_list = []\n",
        "        arc_list = deque()\n",
        "\n",
        "        for neighbor in self.crossword.neighbors(var):\n",
        "            if neighbor not in assignment:\n",
        "                arc_list.append((neighbor, var))\n",
        "\n",
        "        revised_arcs = set()\n",
        "\n",
        "        while arc_list:\n",
        "            x, y = arc_list.pop()\n",
        "\n",
        "            if (x, y) in revised_arcs:\n",
        "                continue\n",
        "\n",
        "            if self.revise(x, y, forward_checking = True):\n",
        "                revised_neighbor_list.append(x)\n",
        "\n",
        "                if len(self.domains[x][-1]) == 0:\n",
        "                    for n in revised_neighbor_list:\n",
        "                        self.domains[n].pop()\n",
        "                    revised_neighbor_list = []\n",
        "                    return None\n",
        "\n",
        "                else:\n",
        "                    for z in self.crossword.neighbors(x) - {y}:\n",
        "                        arc_list.append((z, x))\n",
        "                        revised_arcs.add((z, x))\n",
        "\n",
        "\n",
        "        for var_ in self.crossword.variables:\n",
        "            if var_ not in self.assignment:\n",
        "                if len(self.domains[var_][-1]) == 0:\n",
        "                    for n in revised_neighbor_list:\n",
        "                        self.domains[n].pop()\n",
        "                    revised_neighbor_list = []\n",
        "                    print(\"Getting out because the arc_list value has banished\")\n",
        "                    return None '''\n",
        "\n",
        "\n",
        "        # lets insert the ac3-arc consistency in the back-track recursive loop\n",
        "        revised_neighbor_list = []\n",
        "        arc_list = deque([(neighbor, var) for neighbor in self.crossword.neighbors(var)])\n",
        "        revised_arcs = set()\n",
        "\n",
        "        while arc_list:\n",
        "            x, y = arc_list.pop()\n",
        "\n",
        "            if (x, y) in revised_arcs:\n",
        "                continue\n",
        "\n",
        "            if self.revise(x, y, forward_checking = True):\n",
        "                revised_neighbor_list.append(x)\n",
        "\n",
        "                for z in self.crossword.neighbors(x) - {y}:\n",
        "                    arc_list.append((z, x))\n",
        "                    revised_arcs.add((z, x))\n",
        "\n",
        "        for var_ in self.crossword.variables:\n",
        "            if var_ not in self.assignment:\n",
        "                if len(self.domains[var_][-1]) == 0:\n",
        "                    for n in revised_neighbor_list:\n",
        "                        self.domains[n].pop()\n",
        "                    revised_neighbor_list = []\n",
        "                    # print(\"Getting out because the arc_list value has banished\")\n",
        "                    return None\n",
        "\n",
        "        # print(\"After: \", len(self.domains[var][-1]))\n",
        "\n",
        "        # lets introduce the randomness in iterating the values of the assigned variabel\n",
        "        if self.do_random:\n",
        "            shuffled_curr_domain = list(self.domains[var][-1].copy())\n",
        "            random.shuffle(shuffled_curr_domain)\n",
        "\n",
        "        domain_values = shuffled_curr_domain if self.do_random else list(self.domains[var][-1])\n",
        "        # print(var, len(domain_values))\n",
        "        # new_assignment = assignment.copy()\n",
        "        for value in domain_values:\n",
        "            # print(var, value)\n",
        "            self.write_info(message = f\"{var} || Answer: {value}\\n\")\n",
        "            # new_assignment[var] = value\n",
        "            assignment[var] = value\n",
        "            if self.consistent(assignment):\n",
        "                self.assignment_stack.append(var)\n",
        "                result = self.backtrack(assignment, var)\n",
        "\n",
        "                if result is not None:\n",
        "                    self.memoization_cache[assignment_key] = result\n",
        "                    return result\n",
        "\n",
        "                self.assignment_stack.pop()\n",
        "\n",
        "        for n in revised_neighbor_list:\n",
        "            self.domains[n].pop()\n",
        "\n",
        "        revised_neighbor_list = set()\n",
        "\n",
        "        if did_shorten_domain:\n",
        "            self.domains[var].pop()\n",
        "\n",
        "        self.memoization_cache[assignment_key] = None\n",
        "        # if assigned_var is not None:\n",
        "        assignment.pop(var)\n",
        "        # self.assignment_stack.pop()\n",
        "        return None\n"
      ]
    },
    {
      "cell_type": "code",
      "execution_count": 62,
      "metadata": {
        "id": "GlZlgNYLw92Y"
      },
      "outputs": [],
      "source": [
        "word_list_small = '/content/gdrive/MyDrive/Crossword Generator/all_answers.txt'\n",
        "word_list_large = \"/content/gdrive/MyDrive/Crossword Generator/new_answer_list.txt\"\n",
        "word_list_gutenberg = \"/content/gutenberg_lexicon.txt\"\n",
        "\n",
        "# 4x4 grid\n",
        "grid_4 = [['', 'A', 'A', 'A'],\n",
        "          ['A', 'A', 'A', 'A'],\n",
        "          ['A', 'A', 'A', 'A'],\n",
        "          ['A', 'A', 'A', '']]\n",
        "\n",
        "# 5x5 grid\n",
        "grid_5 = [['A', 'A', 'A', 'A', ''],\n",
        "          ['A', 'A', 'A', 'A', 'A'],\n",
        "          ['A', 'A', 'A', 'A', 'A'],\n",
        "          ['A', 'A', 'A', 'A', 'A'],\n",
        "          ['', 'A', 'A', 'A', 'A'],]\n",
        "\n",
        "# 6x6 grid\n",
        "grid_6 = [['A', 'A', 'A', 'A', '', ''],\n",
        "          ['A', 'A', 'A', 'A', 'A', ''],\n",
        "          ['A', 'A', 'A', 'A', 'A', 'A'],\n",
        "          ['A', 'A', 'A', 'A', 'A', 'A'],\n",
        "          ['', 'A', 'A', 'A', 'A', 'A'],\n",
        "          ['', '', 'A', 'A', 'A', 'A']]\n",
        "\n",
        "grid_7 = [['', '', '', 'A', 'A', 'A', 'A'],\n",
        "          ['', 'A', 'A', 'A', 'A', 'A', 'A'],\n",
        "          ['A', 'A', 'A', 'A', 'A', 'A', 'A'],\n",
        "          ['A', 'A', 'A', '', 'A', 'A', 'A'],\n",
        "          ['A', 'A', 'A', 'A', 'A', 'A', 'A'],\n",
        "          ['A', 'A', 'A', 'A', 'A', 'A', ''],\n",
        "          ['A', 'A', 'A', 'A', '', '', ''],\n",
        "          ]\n",
        "\n",
        "grid_7_1 = [['A', 'A', 'A', '', 'A', 'A', 'A'],\n",
        "            ['A', 'A', 'A', '', 'A', 'A', 'A'],\n",
        "            ['A', 'A', 'A', 'A', 'A', 'A', 'A'],\n",
        "              ['', '', 'A', 'A', 'A', '', ''],\n",
        "            ['A', 'A', 'A', 'A', 'A', 'A', 'A'],\n",
        "            ['A', 'A', 'A', '', 'A', 'A', 'A'],\n",
        "            ['A', 'A', 'A', '', 'A', 'A', 'A'],\n",
        "            ]\n",
        "\n",
        "# brits style\n",
        "grid_7_2 = [\n",
        "              ['A', 'A', 'A', 'A', '', '', ''],\n",
        "              ['', 'A', '', 'A', '', 'A', ''],\n",
        "              ['A', 'A', 'A', 'A', 'A', 'A', 'A'],\n",
        "              ['', 'A', '', 'A', '', 'A', ''],\n",
        "              ['A', 'A', 'A', 'A', 'A', 'A', 'A'],\n",
        "              ['', 'A', '', 'A', '', 'A', ''],\n",
        "              ['', '', '', 'A', 'A', 'A', 'A'],\n",
        "           ]\n",
        "\n",
        "# brits style\n",
        "grid_11_1 = [\n",
        "              ['A', 'A', 'A', 'A', 'A', 'A', '', 'A', 'A', 'A', 'A'],\n",
        "              ['A', '', 'A', '', '', '', 'A', '', 'A', '', 'A'],\n",
        "              ['A', 'A', 'A', 'A', '', 'A', 'A', 'A', 'A', 'A', 'A'],\n",
        "              ['A', '', 'A', '', 'A', '', 'A', '', 'A', '', 'A'],\n",
        "              ['', 'A', 'A', 'A', 'A', 'A', 'A', 'A', '', '', 'A'],\n",
        "              ['A', '', 'A', '', 'A', '', 'A', '', 'A', '', 'A'],\n",
        "              ['A', '', '', 'A', 'A', 'A', 'A', 'A', 'A', 'A', ''],\n",
        "              ['A', '', 'A', '', 'A', '', 'A', '', 'A', '', 'A'],\n",
        "              ['A', 'A', 'A', 'A', 'A', 'A', '', 'A', 'A', 'A', 'A'],\n",
        "              ['A', '', 'A', '', 'A', '', '', '', 'A', '', 'A'],\n",
        "              ['A', 'A', 'A', 'A', '', 'A', 'A', 'A', 'A', 'A', 'A']\n",
        "            ]\n",
        "\n",
        "# brits style\n",
        "grid_15_1 = [\n",
        "              ['A', 'A', 'A', 'A', '', 'A', 'A', 'A', 'A', 'A', 'A', 'A', 'A', 'A', 'A'],\n",
        "              ['', 'A', '', 'A', '', 'A', '', '', 'A', '', 'A', '', 'A', '', 'A'],\n",
        "              ['A', 'A', 'A', 'A', 'A', 'A', 'A', 'A', 'A', 'A', 'A', 'A', 'A', 'A', 'A'],\n",
        "              ['', 'A', '', 'A', '', 'A', '', '', 'A', '', 'A', '', 'A', '', 'A'],\n",
        "              ['A', 'A', 'A', 'A', 'A', 'A', 'A', 'A', 'A', '', 'A', 'A', 'A', 'A', 'A'],\n",
        "              ['', 'A', '', 'A', '', 'A', '', 'A', '', 'A', '', 'A', '', '', 'A'],\n",
        "              ['A', 'A', 'A', 'A', 'A', 'A', '', 'A', 'A', 'A', 'A', 'A', 'A', 'A', 'A'],\n",
        "              ['', '', '', 'A', '', 'A', '', 'A', '', 'A', '', 'A', '', '', ''],\n",
        "              ['A', 'A', 'A', 'A', 'A', 'A', 'A', 'A', '', 'A', 'A', 'A', 'A', 'A', 'A'],\n",
        "              ['A', '', '', 'A', '', 'A', '', 'A', '', 'A', '', 'A', '', 'A', ''],\n",
        "              ['A', 'A', 'A', 'A', 'A', '', 'A', 'A', 'A', 'A', 'A', 'A', 'A', 'A', 'A'],\n",
        "              ['A', '', 'A', '', 'A', '', 'A', '', '', 'A', '', 'A', '', 'A', ''],\n",
        "              ['A', 'A', 'A', 'A', 'A', 'A', 'A', 'A', 'A', 'A', 'A', 'A', 'A', 'A', 'A'],\n",
        "              ['A', '', 'A', '', 'A', '', 'A', '', '', 'A', '', 'A', '', 'A', ''],\n",
        "              ['A', 'A', 'A', 'A', 'A', 'A', 'A', 'A', 'A', 'A', '', 'A', 'A', 'A', 'A']\n",
        "            ]\n",
        "\n",
        "grid_13_1 = [\n",
        "              ['', 'A', 'A', 'A', 'A', 'A', 'A', 'A', 'A', 'A', 'A', '', ''],\n",
        "              ['', '', 'A', '', 'A', '', 'A', '', 'A', '', 'A', '', 'A'],\n",
        "              ['A', 'A', 'A', 'A', 'A', 'A', 'A', '', 'A', 'A', 'A', 'A', 'A'],\n",
        "              ['A', '', 'A', '', 'A', '', 'A', '', 'A', '', 'A', '', 'A'],\n",
        "              ['A', 'A', 'A', 'A', '', 'A', 'A', 'A', 'A', 'A', 'A', 'A', 'A'],\n",
        "              ['A', '', 'A', '', 'A', '', 'A', '', 'A', '', '', '', 'A'],\n",
        "              ['A', 'A', 'A', 'A', 'A', 'A', '', 'A', 'A', 'A', 'A', 'A', 'A'],\n",
        "              ['A', '', '', '', 'A', '', 'A', '', 'A', '', 'A', '', 'A'],\n",
        "              ['A', 'A', 'A', 'A', 'A', 'A', 'A', 'A', '', 'A', 'A', 'A', 'A'],\n",
        "              ['A', '', 'A', '', 'A', '', 'A', '', 'A', '', 'A', '', 'A'],\n",
        "              ['A', 'A', 'A', 'A', 'A', '', 'A', 'A', 'A', 'A', 'A', 'A', 'A'],\n",
        "              ['A', '', 'A', '', 'A', '', 'A', '', 'A', '', 'A', '', ''],\n",
        "              ['', '', 'A', 'A', 'A', 'A', 'A', 'A', 'A', 'A', 'A', 'A', '']\n",
        "            ]\n",
        "\n",
        "config = {\n",
        "    'word_list': word_list_large,\n",
        "    'grid': grid_15_1\n",
        "}"
      ]
    },
    {
      "cell_type": "code",
      "execution_count": 63,
      "metadata": {
        "colab": {
          "base_uri": "https://localhost:8080/",
          "height": 1000
        },
        "id": "J11pwRfEw9yz",
        "outputId": "37c1e313-5058-4925-843e-fd4fff004792"
      },
      "outputs": [
        {
          "output_type": "stream",
          "name": "stdout",
          "text": [
            "Before: Domain sizes Arc-Consistency (Pre-Processing Step): \n",
            "Cell Position: ((8, 0)) | Direction: DOWN | Length: 7 --> Domain Size: 83914\n",
            "Cell Position: ((0, 5)) | Direction: DOWN | Length: 10 --> Domain Size: 132251\n",
            "Cell Position: ((0, 3)) | Direction: DOWN | Length: 11 --> Domain Size: 114829\n",
            "Cell Position: ((4, 11)) | Direction: DOWN | Length: 11 --> Domain Size: 114829\n",
            "Cell Position: ((14, 0)) | Direction: ACROSS | Length: 10 --> Domain Size: 132251\n",
            "Cell Position: ((10, 6)) | Direction: DOWN | Length: 5 --> Domain Size: 37270\n",
            "Cell Position: ((0, 1)) | Direction: DOWN | Length: 7 --> Domain Size: 83914\n",
            "Cell Position: ((12, 0)) | Direction: ACROSS | Length: 15 --> Domain Size: 59741\n",
            "Cell Position: ((0, 12)) | Direction: DOWN | Length: 5 --> Domain Size: 37270\n",
            "Cell Position: ((10, 6)) | Direction: ACROSS | Length: 9 --> Domain Size: 126259\n",
            "Cell Position: ((2, 0)) | Direction: ACROSS | Length: 15 --> Domain Size: 59741\n",
            "Cell Position: ((10, 2)) | Direction: DOWN | Length: 5 --> Domain Size: 37270\n",
            "Cell Position: ((0, 14)) | Direction: DOWN | Length: 7 --> Domain Size: 83914\n",
            "Cell Position: ((0, 5)) | Direction: ACROSS | Length: 10 --> Domain Size: 132251\n",
            "Cell Position: ((10, 4)) | Direction: DOWN | Length: 5 --> Domain Size: 37270\n",
            "Cell Position: ((0, 8)) | Direction: DOWN | Length: 5 --> Domain Size: 37270\n",
            "Cell Position: ((6, 7)) | Direction: ACROSS | Length: 8 --> Domain Size: 106961\n",
            "Cell Position: ((4, 10)) | Direction: ACROSS | Length: 5 --> Domain Size: 37270\n",
            "Cell Position: ((8, 13)) | Direction: DOWN | Length: 7 --> Domain Size: 83914\n",
            "Cell Position: ((0, 10)) | Direction: DOWN | Length: 5 --> Domain Size: 37270\n",
            "Cell Position: ((0, 0)) | Direction: ACROSS | Length: 4 --> Domain Size: 18611\n",
            "Cell Position: ((8, 9)) | Direction: ACROSS | Length: 6 --> Domain Size: 55930\n",
            "Cell Position: ((4, 0)) | Direction: ACROSS | Length: 9 --> Domain Size: 126259\n",
            "Cell Position: ((4, 7)) | Direction: DOWN | Length: 7 --> Domain Size: 83914\n",
            "Cell Position: ((14, 11)) | Direction: ACROSS | Length: 4 --> Domain Size: 18611\n",
            "Cell Position: ((10, 0)) | Direction: ACROSS | Length: 5 --> Domain Size: 37270\n",
            "Cell Position: ((5, 9)) | Direction: DOWN | Length: 10 --> Domain Size: 132251\n",
            "Cell Position: ((8, 0)) | Direction: ACROSS | Length: 8 --> Domain Size: 106961\n",
            "Cell Position: ((6, 0)) | Direction: ACROSS | Length: 6 --> Domain Size: 55930\n",
            "\n",
            "After: Domain sizes Arc-Consistency (Pre-Processing Step): \n",
            "Cell Position: ((8, 0)) | Direction: DOWN | Length: 7 --> Domain Size: 83898\n",
            "Cell Position: ((0, 5)) | Direction: DOWN | Length: 10 --> Domain Size: 132247\n",
            "Cell Position: ((0, 3)) | Direction: DOWN | Length: 11 --> Domain Size: 114824\n",
            "Cell Position: ((4, 11)) | Direction: DOWN | Length: 11 --> Domain Size: 114827\n",
            "Cell Position: ((14, 0)) | Direction: ACROSS | Length: 10 --> Domain Size: 132246\n",
            "Cell Position: ((10, 6)) | Direction: DOWN | Length: 5 --> Domain Size: 37257\n",
            "Cell Position: ((0, 1)) | Direction: DOWN | Length: 7 --> Domain Size: 83899\n",
            "Cell Position: ((12, 0)) | Direction: ACROSS | Length: 15 --> Domain Size: 59740\n",
            "Cell Position: ((0, 12)) | Direction: DOWN | Length: 5 --> Domain Size: 37249\n",
            "Cell Position: ((10, 6)) | Direction: ACROSS | Length: 9 --> Domain Size: 126254\n",
            "Cell Position: ((2, 0)) | Direction: ACROSS | Length: 15 --> Domain Size: 59739\n",
            "Cell Position: ((10, 2)) | Direction: DOWN | Length: 5 --> Domain Size: 37263\n",
            "Cell Position: ((0, 14)) | Direction: DOWN | Length: 7 --> Domain Size: 83899\n",
            "Cell Position: ((0, 5)) | Direction: ACROSS | Length: 10 --> Domain Size: 132246\n",
            "Cell Position: ((10, 4)) | Direction: DOWN | Length: 5 --> Domain Size: 37266\n",
            "Cell Position: ((0, 8)) | Direction: DOWN | Length: 5 --> Domain Size: 37261\n",
            "Cell Position: ((6, 7)) | Direction: ACROSS | Length: 8 --> Domain Size: 106957\n",
            "Cell Position: ((4, 10)) | Direction: ACROSS | Length: 5 --> Domain Size: 37266\n",
            "Cell Position: ((8, 13)) | Direction: DOWN | Length: 7 --> Domain Size: 83903\n",
            "Cell Position: ((0, 10)) | Direction: DOWN | Length: 5 --> Domain Size: 37267\n",
            "Cell Position: ((0, 0)) | Direction: ACROSS | Length: 4 --> Domain Size: 18611\n",
            "Cell Position: ((8, 9)) | Direction: ACROSS | Length: 6 --> Domain Size: 55915\n",
            "Cell Position: ((4, 0)) | Direction: ACROSS | Length: 9 --> Domain Size: 126258\n",
            "Cell Position: ((4, 7)) | Direction: DOWN | Length: 7 --> Domain Size: 83911\n",
            "Cell Position: ((14, 11)) | Direction: ACROSS | Length: 4 --> Domain Size: 18611\n",
            "Cell Position: ((10, 0)) | Direction: ACROSS | Length: 5 --> Domain Size: 37265\n",
            "Cell Position: ((5, 9)) | Direction: DOWN | Length: 10 --> Domain Size: 132249\n",
            "Cell Position: ((8, 0)) | Direction: ACROSS | Length: 8 --> Domain Size: 106958\n",
            "Cell Position: ((6, 0)) | Direction: ACROSS | Length: 6 --> Domain Size: 55930\n",
            "{Variable(12, 0, 'across', 15): 'BROUGHTDAYLIGHT', Variable(4, 11, 'down', 11): 'BYAUTHORITY', Variable(5, 9, 'down', 10): 'PINESAWYER', Variable(8, 9, 'across', 6): 'ESTONE', Variable(8, 13, 'down', 7): 'NOTCHER', Variable(14, 11, 'across', 4): 'YORK', Variable(10, 6, 'across', 9): 'HOWABOUTH', Variable(10, 6, 'down', 5): 'HUTTO', Variable(6, 7, 'across', 8): 'TRITASTI', Variable(4, 7, 'down', 7): 'PATRONO', Variable(14, 0, 'across', 10): 'MULTICOLOR', Variable(10, 2, 'down', 5): 'GHOUL', Variable(10, 4, 'down', 5): 'NEGHI', Variable(10, 0, 'across', 5): 'TIGON', Variable(8, 0, 'down', 7): 'ANTEBUM', Variable(8, 0, 'across', 8): 'ADEGUINO', Variable(4, 10, 'across', 5): 'ABODE', Variable(0, 14, 'down', 7): 'TAUCETI', Variable(0, 12, 'down', 5): 'DEINO', Variable(0, 5, 'across', 10): 'THEYNEEDIT', Variable(0, 10, 'down', 5): 'EUAIA', Variable(0, 5, 'down', 10): 'TWOBASEHIT', Variable(2, 0, 'across', 15): 'CHEVROLETMALIBU', Variable(0, 8, 'down', 5): 'YOTES', Variable(4, 0, 'across', 9): 'TAXSCAMPS', Variable(0, 3, 'down', 11): 'GIVESWINGTO', Variable(6, 0, 'across', 6): 'INDITE', Variable(0, 1, 'down', 7): 'LEHMANN', Variable(0, 0, 'across', 4): 'ILOG'}\n",
            "Total time taken:  19.519615650177002 seconds\n",
            "Total back-tracks:  55\n",
            "Total time taken in revise function:  3.202497720718384\n",
            "Total times revise function is called:  188\n",
            "Total time in consistency check:  0.06232142448425293\n"
          ]
        },
        {
          "output_type": "display_data",
          "data": {
            "text/plain": [
              "<PIL.Image.Image image mode=RGB size=750x750>"
            ],
            "image/png": "[encoded data removed]"
          },
          "metadata": {}
        }
      ],
      "source": [
        "start_t = time.time()\n",
        "crossword = Crossword(config['grid'], config['word_list'])\n",
        "creator = CrosswordCreator(crossword, do_random = True)\n",
        "assignment = creator.solve()\n",
        "end_t = time.time()\n",
        "\n",
        "print(\"Total time taken: \", end_t - start_t, 'seconds')\n",
        "print(\"Total back-tracks: \", creator.back_track_count)\n",
        "print(\"Total time taken in revise function: \", creator.t_revise_time)\n",
        "print(\"Total times revise function is called: \", creator.t_revise_called)\n",
        "print(\"Total time in consistency check: \", creator.consistency_elapsed_time)\n",
        "# pprint(assignment)\n",
        "\n",
        "if assignment is not None:\n",
        "    display(creator.display_only_grid(assignment, block_size = 50, f_size = 25))"
      ]
    },
    {
      "cell_type": "code",
      "source": [
        "creator.assignment_stack"
      ],
      "metadata": {
        "colab": {
          "base_uri": "https://localhost:8080/"
        },
        "id": "s7Jt-6QUtEtF",
        "outputId": "9eab8aed-50d8-4a91-9aed-172c22aea99f"
      },
      "execution_count": 19,
      "outputs": [
        {
          "output_type": "execute_result",
          "data": {
            "text/plain": [
              "[Variable(0, 1, 'down', 5),\n",
              " Variable(1, 0, 'across', 5),\n",
              " Variable(2, 0, 'across', 5)]"
            ]
          },
          "metadata": {},
          "execution_count": 19
        }
      ]
    },
    {
      "cell_type": "code",
      "execution_count": 10,
      "metadata": {
        "colab": {
          "base_uri": "https://localhost:8080/"
        },
        "id": "vhmCA5UG045U",
        "outputId": "ceb2e1c4-d4d6-4951-d02c-3a98fe255720"
      },
      "outputs": [
        {
          "output_type": "execute_result",
          "data": {
            "text/plain": [
              "(10, 3)"
            ]
          },
          "metadata": {},
          "execution_count": 10
        }
      ],
      "source": [
        "len(creator.crossword.variables), len(creator.assignment_stack)"
      ]
    },
    {
      "cell_type": "code",
      "execution_count": null,
      "metadata": {
        "colab": {
          "base_uri": "https://localhost:8080/"
        },
        "id": "nNDfDs2tcaVW",
        "outputId": "74274d92-3ba6-4b68-bf86-2af6563e0c52"
      },
      "outputs": [
        {
          "data": {
            "text/plain": [
              "[Variable(2, 5, 'across', 6),\n",
              " Variable(1, 6, 'down', 7),\n",
              " Variable(0, 10, 'down', 6),\n",
              " Variable(0, 8, 'down', 4),\n",
              " Variable(4, 1, 'across', 7),\n",
              " Variable(6, 3, 'across', 7),\n",
              " Variable(0, 7, 'across', 4),\n",
              " Variable(3, 4, 'down', 7),\n",
              " Variable(0, 2, 'down', 6),\n",
              " Variable(5, 8, 'down', 6),\n",
              " Variable(8, 0, 'across', 6),\n",
              " Variable(0, 0, 'across', 6),\n",
              " Variable(2, 0, 'across', 4),\n",
              " Variable(8, 7, 'across', 4),\n",
              " Variable(10, 5, 'across', 6),\n",
              " Variable(7, 2, 'down', 4),\n",
              " Variable(5, 0, 'down', 6),\n",
              " Variable(0, 0, 'down', 4)]"
            ]
          },
          "execution_count": 14,
          "metadata": {},
          "output_type": "execute_result"
        }
      ],
      "source": [
        "creator.assignment_stack"
      ]
    },
    {
      "cell_type": "code",
      "execution_count": 12,
      "metadata": {
        "colab": {
          "base_uri": "https://localhost:8080/"
        },
        "id": "gijm92yJx4Ac",
        "outputId": "be099c7c-822a-4e64-cef6-1f749c040624"
      },
      "outputs": [
        {
          "output_type": "execute_result",
          "data": {
            "text/plain": [
              "(15.17756700515747, 254796, 254797, 25733)"
            ]
          },
          "metadata": {},
          "execution_count": 12
        }
      ],
      "source": [
        "creator.consistency_elapsed_time, creator.consistency_called, creator.back_track_count, creator.t_revise_called"
      ]
    },
    {
      "cell_type": "code",
      "execution_count": null,
      "metadata": {
        "colab": {
          "base_uri": "https://localhost:8080/"
        },
        "id": "E2OcatVLjnIe",
        "outputId": "41a7558f-467c-4041-a47e-ed9b9a40a9ec"
      },
      "outputs": [
        {
          "data": {
            "text/plain": [
              "3343"
            ]
          },
          "execution_count": 9,
          "metadata": {},
          "output_type": "execute_result"
        }
      ],
      "source": [
        "len(creator.states)"
      ]
    },
    {
      "cell_type": "code",
      "execution_count": 67,
      "metadata": {
        "colab": {
          "base_uri": "https://localhost:8080/",
          "height": 499
        },
        "id": "LRzQXGg3lb65",
        "outputId": "01d0d210-fe59-41fd-b8cf-53199d8b0433"
      },
      "outputs": [
        {
          "output_type": "display_data",
          "data": {
            "text/plain": [
              "<Figure size 600x600 with 1 Axes>"
            ],
            "image/png": "[encoded data removed]"
          },
          "metadata": {}
        }
      ],
      "source": [
        "from grid_generator_latest import generate_grid\n",
        "\n",
        "json_data, symmetry = generate_grid(grid_size = 9, b_factor = 5, display_grid = True)\n",
        "\n",
        "rows = json_data['size']['rows']\n",
        "cols = json_data['size']['cols']\n",
        "grid = json_data['grid']\n",
        "reshaped_grid = [grid[i:i + rows] for i in range(0, len(grid), rows)]\n",
        "\n",
        "grid = []\n",
        "for i in reshaped_grid:\n",
        "    row = []\n",
        "    for j in i:\n",
        "        if j == '.':\n",
        "            row.append('')\n",
        "        else:\n",
        "            row.append('A')\n",
        "    grid.append(row)\n",
        "# pprint(grid)"
      ]
    },
    {
      "cell_type": "code",
      "execution_count": 68,
      "metadata": {
        "colab": {
          "base_uri": "https://localhost:8080/",
          "height": 1000
        },
        "id": "lXQCXP1Xlf-_",
        "outputId": "82cfd003-0f02-41e1-9dfd-ee9902fbfa49"
      },
      "outputs": [
        {
          "output_type": "stream",
          "name": "stdout",
          "text": [
            "Before: Domain sizes Arc-Consistency (Pre-Processing Step): \n",
            "Cell Position: ((5, 8)) | Direction: DOWN | Length: 4 --> Domain Size: 18611\n",
            "Cell Position: ((5, 6)) | Direction: ACROSS | Length: 3 --> Domain Size: 6583\n",
            "Cell Position: ((3, 0)) | Direction: ACROSS | Length: 3 --> Domain Size: 6583\n",
            "Cell Position: ((0, 7)) | Direction: DOWN | Length: 4 --> Domain Size: 18611\n",
            "Cell Position: ((6, 5)) | Direction: DOWN | Length: 3 --> Domain Size: 6583\n",
            "Cell Position: ((0, 1)) | Direction: DOWN | Length: 4 --> Domain Size: 18611\n",
            "Cell Position: ((1, 0)) | Direction: ACROSS | Length: 4 --> Domain Size: 18611\n",
            "Cell Position: ((6, 5)) | Direction: ACROSS | Length: 4 --> Domain Size: 18611\n",
            "Cell Position: ((0, 6)) | Direction: DOWN | Length: 4 --> Domain Size: 18611\n",
            "Cell Position: ((0, 8)) | Direction: DOWN | Length: 3 --> Domain Size: 6583\n",
            "Cell Position: ((5, 7)) | Direction: DOWN | Length: 4 --> Domain Size: 18611\n",
            "Cell Position: ((8, 0)) | Direction: ACROSS | Length: 4 --> Domain Size: 18611\n",
            "Cell Position: ((5, 1)) | Direction: DOWN | Length: 4 --> Domain Size: 18611\n",
            "Cell Position: ((2, 5)) | Direction: ACROSS | Length: 4 --> Domain Size: 18611\n",
            "Cell Position: ((0, 5)) | Direction: ACROSS | Length: 4 --> Domain Size: 18611\n",
            "Cell Position: ((7, 0)) | Direction: ACROSS | Length: 4 --> Domain Size: 18611\n",
            "Cell Position: ((5, 6)) | Direction: DOWN | Length: 4 --> Domain Size: 18611\n",
            "Cell Position: ((5, 1)) | Direction: ACROSS | Length: 4 --> Domain Size: 18611\n",
            "Cell Position: ((0, 0)) | Direction: DOWN | Length: 4 --> Domain Size: 18611\n",
            "Cell Position: ((3, 4)) | Direction: ACROSS | Length: 4 --> Domain Size: 18611\n",
            "Cell Position: ((6, 0)) | Direction: ACROSS | Length: 4 --> Domain Size: 18611\n",
            "Cell Position: ((0, 3)) | Direction: DOWN | Length: 3 --> Domain Size: 6583\n",
            "Cell Position: ((8, 5)) | Direction: ACROSS | Length: 4 --> Domain Size: 18611\n",
            "Cell Position: ((0, 5)) | Direction: DOWN | Length: 5 --> Domain Size: 37270\n",
            "Cell Position: ((3, 4)) | Direction: DOWN | Length: 3 --> Domain Size: 6583\n",
            "Cell Position: ((0, 2)) | Direction: DOWN | Length: 4 --> Domain Size: 18611\n",
            "Cell Position: ((4, 3)) | Direction: ACROSS | Length: 3 --> Domain Size: 6583\n",
            "Cell Position: ((4, 3)) | Direction: DOWN | Length: 5 --> Domain Size: 37270\n",
            "Cell Position: ((1, 5)) | Direction: ACROSS | Length: 4 --> Domain Size: 18611\n",
            "Cell Position: ((6, 0)) | Direction: DOWN | Length: 3 --> Domain Size: 6583\n",
            "Cell Position: ((7, 5)) | Direction: ACROSS | Length: 4 --> Domain Size: 18611\n",
            "Cell Position: ((0, 0)) | Direction: ACROSS | Length: 4 --> Domain Size: 18611\n",
            "Cell Position: ((5, 2)) | Direction: DOWN | Length: 4 --> Domain Size: 18611\n",
            "Cell Position: ((2, 0)) | Direction: ACROSS | Length: 4 --> Domain Size: 18611\n",
            "\n",
            "After: Domain sizes Arc-Consistency (Pre-Processing Step): \n",
            "Cell Position: ((5, 8)) | Direction: DOWN | Length: 4 --> Domain Size: 18608\n",
            "Cell Position: ((5, 6)) | Direction: ACROSS | Length: 3 --> Domain Size: 6576\n",
            "Cell Position: ((3, 0)) | Direction: ACROSS | Length: 3 --> Domain Size: 6583\n",
            "Cell Position: ((0, 7)) | Direction: DOWN | Length: 4 --> Domain Size: 18607\n",
            "Cell Position: ((6, 5)) | Direction: DOWN | Length: 3 --> Domain Size: 6576\n",
            "Cell Position: ((0, 1)) | Direction: DOWN | Length: 4 --> Domain Size: 18599\n",
            "Cell Position: ((1, 0)) | Direction: ACROSS | Length: 4 --> Domain Size: 18599\n",
            "Cell Position: ((6, 5)) | Direction: ACROSS | Length: 4 --> Domain Size: 18610\n",
            "Cell Position: ((0, 6)) | Direction: DOWN | Length: 4 --> Domain Size: 18597\n",
            "Cell Position: ((0, 8)) | Direction: DOWN | Length: 3 --> Domain Size: 6583\n",
            "Cell Position: ((5, 7)) | Direction: DOWN | Length: 4 --> Domain Size: 18599\n",
            "Cell Position: ((8, 0)) | Direction: ACROSS | Length: 4 --> Domain Size: 18601\n",
            "Cell Position: ((5, 1)) | Direction: DOWN | Length: 4 --> Domain Size: 18610\n",
            "Cell Position: ((2, 5)) | Direction: ACROSS | Length: 4 --> Domain Size: 18595\n",
            "Cell Position: ((0, 5)) | Direction: ACROSS | Length: 4 --> Domain Size: 18607\n",
            "Cell Position: ((7, 0)) | Direction: ACROSS | Length: 4 --> Domain Size: 18593\n",
            "Cell Position: ((5, 6)) | Direction: DOWN | Length: 4 --> Domain Size: 18599\n",
            "Cell Position: ((5, 1)) | Direction: ACROSS | Length: 4 --> Domain Size: 18600\n",
            "Cell Position: ((0, 0)) | Direction: DOWN | Length: 4 --> Domain Size: 18607\n",
            "Cell Position: ((3, 4)) | Direction: ACROSS | Length: 4 --> Domain Size: 18608\n",
            "Cell Position: ((6, 0)) | Direction: ACROSS | Length: 4 --> Domain Size: 18596\n",
            "Cell Position: ((0, 3)) | Direction: DOWN | Length: 3 --> Domain Size: 6583\n",
            "Cell Position: ((8, 5)) | Direction: ACROSS | Length: 4 --> Domain Size: 18611\n",
            "Cell Position: ((0, 5)) | Direction: DOWN | Length: 5 --> Domain Size: 37262\n",
            "Cell Position: ((3, 4)) | Direction: DOWN | Length: 3 --> Domain Size: 6583\n",
            "Cell Position: ((0, 2)) | Direction: DOWN | Length: 4 --> Domain Size: 18599\n",
            "Cell Position: ((4, 3)) | Direction: ACROSS | Length: 3 --> Domain Size: 6580\n",
            "Cell Position: ((4, 3)) | Direction: DOWN | Length: 5 --> Domain Size: 37268\n",
            "Cell Position: ((1, 5)) | Direction: ACROSS | Length: 4 --> Domain Size: 18600\n",
            "Cell Position: ((6, 0)) | Direction: DOWN | Length: 3 --> Domain Size: 6583\n",
            "Cell Position: ((7, 5)) | Direction: ACROSS | Length: 4 --> Domain Size: 18611\n",
            "Cell Position: ((0, 0)) | Direction: ACROSS | Length: 4 --> Domain Size: 18608\n",
            "Cell Position: ((5, 2)) | Direction: DOWN | Length: 4 --> Domain Size: 18611\n",
            "Cell Position: ((2, 0)) | Direction: ACROSS | Length: 4 --> Domain Size: 18602\n",
            "{Variable(0, 5, 'down', 5): 'YOBRO', Variable(1, 5, 'across', 4): 'OSUN', Variable(2, 5, 'across', 4): 'BLUB', Variable(0, 8, 'down', 3): 'INB', Variable(0, 7, 'down', 4): 'YUUK', Variable(0, 5, 'across', 4): 'YIYI', Variable(0, 6, 'down', 4): 'ISLA', Variable(3, 4, 'across', 4): 'IRAK', Variable(4, 3, 'across', 3): 'AHO', Variable(3, 4, 'down', 3): 'IHA', Variable(4, 3, 'down', 5): 'ARNAS', Variable(5, 1, 'across', 4): 'ORRA', Variable(7, 0, 'across', 4): 'NINA', Variable(5, 1, 'down', 4): 'OAIE', Variable(8, 0, 'across', 4): 'REGS', Variable(5, 2, 'down', 4): 'RANG', Variable(6, 0, 'across', 4): 'KAAN', Variable(6, 0, 'down', 3): 'KNR', Variable(5, 8, 'down', 4): 'HEPC', Variable(6, 5, 'across', 4): 'IONE', Variable(8, 5, 'across', 4): 'ABAC', Variable(6, 5, 'down', 3): 'IWA', Variable(5, 7, 'down', 4): 'ANMA', Variable(7, 5, 'across', 4): 'WAMP', Variable(5, 6, 'down', 4): 'DOAB', Variable(5, 6, 'across', 3): 'DAH', Variable(0, 1, 'down', 4): 'ZAIR', Variable(1, 0, 'across', 4): 'DAGG', Variable(2, 0, 'across', 4): 'AIRI', Variable(0, 3, 'down', 3): 'IGI', Variable(0, 0, 'down', 4): 'UDAY', Variable(0, 0, 'across', 4): 'UZAI', Variable(0, 2, 'down', 4): 'AGRA', Variable(3, 0, 'across', 3): 'YRA'}\n",
            "Total time taken:  18.25884199142456 seconds\n",
            "Total back-tracks:  40\n",
            "Total memoized back-tracks:  0\n",
            "Total time taken in revise function:  0.7478749752044678\n",
            "Total times revise function is called:  209\n"
          ]
        },
        {
          "output_type": "display_data",
          "data": {
            "text/plain": [
              "<PIL.Image.Image image mode=RGB size=450x450>"
            ],
            "image/png": "[encoded data removed]"
          },
          "metadata": {}
        }
      ],
      "source": [
        "start_t = time.time()\n",
        "crossword = Crossword(grid, config['word_list'])\n",
        "creator = CrosswordCreator(crossword, do_random = True)\n",
        "# creator = CrosswordParallelSolver(crossword, do_random = True)\n",
        "assignment = creator.solve()\n",
        "end_t = time.time()\n",
        "print(\"Total time taken: \", end_t - start_t, 'seconds')\n",
        "print(\"Total back-tracks: \", creator.back_track_count)\n",
        "print(\"Total memoized back-tracks: \", creator.memoized_back_track_count)\n",
        "print(\"Total time taken in revise function: \", creator.t_revise_time)\n",
        "print(\"Total times revise function is called: \", creator.t_revise_called)\n",
        "\n",
        "if assignment is not None:\n",
        "    display(creator.display_only_grid(assignment, block_size = 50, f_size = 25))"
      ]
    },
    {
      "cell_type": "code",
      "source": [
        "with open('crossword_grid_13x13.pkl', 'rb') as file:\n",
        "    grid = pickle.load(file)"
      ],
      "metadata": {
        "id": "kbEJL8QtssEq"
      },
      "execution_count": 44,
      "outputs": []
    },
    {
      "cell_type": "code",
      "execution_count": null,
      "metadata": {
        "colab": {
          "base_uri": "https://localhost:8080/"
        },
        "id": "RCe4l5aiAyr5",
        "outputId": "8fcc70ce-a684-4be6-9211-3b8293718a64"
      },
      "outputs": [
        {
          "output_type": "execute_result",
          "data": {
            "text/plain": [
              "[Variable(1, 0, 'across', 6),\n",
              " Variable(0, 1, 'down', 5),\n",
              " Variable(1, 4, 'down', 5),\n",
              " Variable(5, 3, 'across', 3)]"
            ]
          },
          "metadata": {},
          "execution_count": 124
        }
      ],
      "source": [
        "creator.assignment_stack"
      ]
    },
    {
      "cell_type": "code",
      "execution_count": null,
      "metadata": {
        "colab": {
          "base_uri": "https://localhost:8080/"
        },
        "id": "FUmHXzMWm385",
        "outputId": "86a37a8e-5cfd-4d93-8ca9-7247ef721baa"
      },
      "outputs": [
        {
          "output_type": "execute_result",
          "data": {
            "text/plain": [
              "(9368, 24.88553214073181, 9373, 608351, 149.9065544605255)"
            ]
          },
          "metadata": {},
          "execution_count": 108
        }
      ],
      "source": [
        "len(creator.states), creator.consistency_elapsed_time, creator.consistency_called, creator.t_revise_called, creator.t_revise_time"
      ]
    },
    {
      "cell_type": "code",
      "execution_count": null,
      "metadata": {
        "colab": {
          "base_uri": "https://localhost:8080/"
        },
        "id": "n2Za9fEHZCJ3",
        "outputId": "6d1c1d84-aada-4ea6-8127-6442e75d93f5"
      },
      "outputs": [
        {
          "name": "stdout",
          "output_type": "stream",
          "text": [
            "38\n"
          ]
        }
      ],
      "source": [
        "max_state = None\n",
        "max_state_count = 0\n",
        "for state in creator.states:\n",
        "    if len(state) > max_state_count:\n",
        "        max_state_count = len(state)\n",
        "        max_state = state\n",
        "\n",
        "print(len(max_state))\n"
      ]
    },
    {
      "cell_type": "code",
      "execution_count": null,
      "metadata": {
        "id": "oDl26apdSEbN"
      },
      "outputs": [],
      "source": [
        "def visualize_crossword_image(grid, grid_nums, cell_size = 30, black_square_color=\"black\", text_color=\"black\", image_file=\"crossword.png\"):\n",
        "    \"\"\"\n",
        "    Create an image representation of the crossword grid.\n",
        "\n",
        "    Parameters:\n",
        "    - grid (list): The crossword grid.\n",
        "    - cell_size (int): Size of each cell in pixels.\n",
        "    - black_square_color (str): Color for black squares.\n",
        "    - text_color (str): Color for text.\n",
        "    - image_file (str): File name to save the image.\n",
        "\n",
        "    Returns:\n",
        "    - None\n",
        "    \"\"\"\n",
        "    height = len(grid) * cell_size + 1\n",
        "    width = len(grid[0]) * cell_size + 1\n",
        "\n",
        "    img = Image.new(\"RGB\", (width, height), \"white\")\n",
        "    draw = ImageDraw.Draw(img)\n",
        "\n",
        "    font = ImageFont.load_default()\n",
        "\n",
        "    # Adjust font size\n",
        "    font_size = 8  # Set your desired font size\n",
        "    font = ImageFont.truetype(\"/content/gdrive/MyDrive/Crossword Generator/Roboto-Regular.ttf\", font_size)\n",
        "\n",
        "    for row in range(len(grid)):\n",
        "        for col in range(len(grid[row])):\n",
        "            x = col * cell_size\n",
        "            y = row * cell_size\n",
        "            rect = [(x, y), (x + cell_size, y + cell_size)]\n",
        "\n",
        "            if grid[row][col] == \"\":\n",
        "                draw.rectangle(rect, fill = black_square_color)\n",
        "            else:\n",
        "                draw.rectangle(rect, outline = \"black\")\n",
        "                # if grid_nums[row][col] != 0:\n",
        "                #   draw.text((x + cell_size // 2 - 7, y + cell_size // 2 - 8), str(grid_nums[row][col]), fill=text_color, anchor=\"mm\", font=font)\n",
        "\n",
        "    img_array = np.array(img)\n",
        "    plt.figure(figsize = (6, 6))\n",
        "    plt.imshow(img_array)\n",
        "    plt.axis('off')\n",
        "    plt.show()"
      ]
    },
    {
      "cell_type": "code",
      "execution_count": null,
      "metadata": {
        "colab": {
          "base_uri": "https://localhost:8080/",
          "height": 499
        },
        "id": "fF1ezs73V3_6",
        "outputId": "16a99f91-a757-40e4-b234-17d523e38495"
      },
      "outputs": [
        {
          "data": {
            "image/png": "[encoded data removed]",
            "text/plain": [
              "<Figure size 600x600 with 1 Axes>"
            ]
          },
          "metadata": {},
          "output_type": "display_data"
        }
      ],
      "source": [
        "visualize_crossword_image(config['grid'], None)"
      ]
    },
    {
      "cell_type": "code",
      "execution_count": null,
      "metadata": {
        "colab": {
          "base_uri": "https://localhost:8080/"
        },
        "id": "DFoYtGIdiTX8",
        "outputId": "bb5845aa-a1a3-478b-a498-85b94b40d985"
      },
      "outputs": [
        {
          "name": "stdout",
          "output_type": "stream",
          "text": [
            "27\n"
          ]
        }
      ],
      "source": [
        "found = False\n",
        "for i, state in enumerate(creator.states):\n",
        "    for var, value in state.items():\n",
        "        if var.i == 8 and var.j == 9:\n",
        "            print(i)\n",
        "            found = True\n",
        "            break\n",
        "    if found:\n",
        "        break"
      ]
    },
    {
      "cell_type": "code",
      "execution_count": 46,
      "metadata": {
        "colab": {
          "base_uri": "https://localhost:8080/"
        },
        "id": "x1IBGPW-Ev9L",
        "outputId": "846cab90-0679-4a9f-9817-c50fbbf9eb1d"
      },
      "outputs": [
        {
          "output_type": "stream",
          "name": "stderr",
          "text": [
            "150it [00:20,  7.23it/s]\n"
          ]
        }
      ],
      "source": [
        "grid_size_info = '13x13'\n",
        "dir_name = f'/content/Images-{grid_size_info}'\n",
        "if not os.path.exists(dir_name):\n",
        "    os.mkdir(dir_name)\n",
        "\n",
        "for i, state in tqdm(enumerate(creator.states[-150:]), ncols = 150):\n",
        "    creator.display_only_grid(state, filename = os.path.join(dir_name, f\"output_{grid_size_info}-{i}.png\"))"
      ]
    },
    {
      "cell_type": "code",
      "execution_count": 47,
      "metadata": {
        "colab": {
          "base_uri": "https://localhost:8080/"
        },
        "id": "0rUxEuJYFF-i",
        "outputId": "58a82841-ee23-4869-c2b3-f92fec6a45bf"
      },
      "outputs": [
        {
          "output_type": "stream",
          "name": "stderr",
          "text": [
            "100%|█████████| 150/150 [00:00<00:00, 6947.82it/s]\n"
          ]
        }
      ],
      "source": [
        "def sort_by_last_digit(filename):\n",
        "    last_digit = int(filename.split('-')[-1].split('.')[0])\n",
        "    return last_digit\n",
        "\n",
        "def create_gif(images_folder, output_gif_path):\n",
        "    image_files = sorted([f for f in os.listdir(images_folder) if f.endswith(('.png', '.jpg', '.jpeg', '.gif'))])\n",
        "    image_files = sorted(image_files, key = sort_by_last_digit)\n",
        "\n",
        "    images = []\n",
        "    for image_file in tqdm(image_files, ncols = 50):\n",
        "        image_path = os.path.join(images_folder, image_file)\n",
        "        img = Image.open(image_path)\n",
        "        images.append(img)\n",
        "\n",
        "    images[0].save(output_gif_path, save_all=True, append_images=images[1:], duration = 300, loop = 0)\n",
        "\n",
        "# images_folder = \"/content/Images\"\n",
        "output_gif_path = f\"/content/output {grid_size_info}_1.gif\"\n",
        "\n",
        "create_gif(dir_name, output_gif_path)"
      ]
    },
    {
      "cell_type": "code",
      "source": [
        "lines = open(\"/content/log_info.txt\").read().splitlines()\n",
        "len(lines)"
      ],
      "metadata": {
        "colab": {
          "base_uri": "https://localhost:8080/"
        },
        "id": "EFG3FSYNsfbZ",
        "outputId": "6c06fef0-6a0e-4f66-9a9e-9cce7ecb8fed"
      },
      "execution_count": 15,
      "outputs": [
        {
          "output_type": "execute_result",
          "data": {
            "text/plain": [
              "764390"
            ]
          },
          "metadata": {},
          "execution_count": 15
        }
      ]
    },
    {
      "cell_type": "code",
      "source": [
        "with open(\"/content/extracted_data.txt\", 'w') as f:\n",
        "  f.write('\\n'.join(lines[:2000]))"
      ],
      "metadata": {
        "id": "op0dVLMYsf8y"
      },
      "execution_count": 17,
      "outputs": []
    }
  ],
  "metadata": {
    "colab": {
      "provenance": [],
      "authorship_tag": "ABX9TyMw5l/ayPdbssDv+0NEGpa6",
      "include_colab_link": true
    },
    "kernelspec": {
      "display_name": "Python 3",
      "name": "python3"
    },
    "language_info": {
      "name": "python"
    }
  },
  "nbformat": 4,
  "nbformat_minor": 0
}