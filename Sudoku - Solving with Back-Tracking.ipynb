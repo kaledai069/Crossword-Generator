{
 "cells": [
  {
   "cell_type": "code",
   "execution_count": 95,
   "id": "f904c97a",
   "metadata": {},
   "outputs": [],
   "source": [
    "import math\n",
    "import copy\n",
    "import time\n",
    "import numpy as np\n",
    "\n",
    "from pprint import pprint\n",
    "from tqdm import tqdm"
   ]
  },
  {
   "cell_type": "code",
   "execution_count": 106,
   "id": "ecf3dad6",
   "metadata": {},
   "outputs": [],
   "source": [
    "class SudokuSolver:\n",
    "    def __init__(self, board):\n",
    "        self.initial_board = board\n",
    "        self.solution_board = copy.deepcopy(board)\n",
    "        self.num_rows = len(board)\n",
    "        self.num_cols = len(board[0])\n",
    "        self.sq_rt = int(math.sqrt(self.num_rows))\n",
    "        \n",
    "    def is_valid(self, ith_row, jth_col, num):\n",
    "        return (\n",
    "        all(num != self.solution_board[ith_row][i] for i in range(self.num_rows)) and # horizontal constraint\n",
    "        all(num != self.solution_board[i][jth_col] for i in range(self.num_cols)) and # vertical constraint\n",
    "        all(num != self.solution_board[ith_row // self.sq_rt * self.sq_rt + i][jth_col // self.sq_rt * self.sq_rt + j] for i in range(self.sq_rt) for j in range(self.sq_rt)) # within local cell constraint\n",
    "        )\n",
    "    \n",
    "    def find_empty_location(self):\n",
    "        # Find the first empty cell in the board (marked with 0)\n",
    "        for i in range(self.num_rows):\n",
    "            for j in range(self.num_cols):\n",
    "                if self.solution_board[i][j] == 0:\n",
    "                    return i, j\n",
    "        return None, None\n",
    "    \n",
    "    def solve_sudoku(self):\n",
    "        start_t = time.time()\n",
    "        if self.backtrack_sudoku():\n",
    "            end_t = time.time()\n",
    "#             print(\"Total time taken: \", end_t - start_t)\n",
    "            return self.solution_board\n",
    "        else:\n",
    "            end_t = time.time()\n",
    "#             print(\"Total time taken: \", end_t - start_t)\n",
    "            print(\"Didn't solve the given sudoku puzzle!\")\n",
    "            return self.initial_board\n",
    "    \n",
    "    def backtrack_sudoku(self):\n",
    "        # empty_location\n",
    "        ith_row, jth_col = self.find_empty_location()\n",
    "\n",
    "        # if there is no empty location, the sudoku is solved\n",
    "        if ith_row is None:\n",
    "            return True # base case here\n",
    "        \n",
    "        # domain for this particular applicaiton is [1 to num_rows]\n",
    "        for num in range(1, self.num_rows + 1):\n",
    "            \n",
    "            if self.is_valid(ith_row, jth_col, num):\n",
    "                self.solution_board[ith_row][jth_col] = num\n",
    "                \n",
    "                # recursively try to fill the sudoku solution board\n",
    "                if self.backtrack_sudoku():\n",
    "                    return True\n",
    "\n",
    "                # If the current assignment leads to an invalid solution, backtrack\n",
    "                self.solution_board[ith_row][jth_col] = 0\n",
    "\n",
    "        return False"
   ]
  },
  {
   "cell_type": "code",
   "execution_count": 96,
   "id": "35454110",
   "metadata": {},
   "outputs": [],
   "source": [
    "boards = np.zeros((1000000, 81), np.int32)\n",
    "solutions = np.zeros((1000000, 81), np.int32)\n",
    "for i, line in enumerate(open('sudoku.csv', 'r').read().splitlines()[1:]):\n",
    "    board, solution = line.split(\",\")\n",
    "    for j, q_s in enumerate(zip(board, solution)):\n",
    "        q, s = q_s\n",
    "        boards[i, j] = q\n",
    "        solutions[i, j] = s\n",
    "boards = boards.reshape((-1, 9, 9))\n",
    "solutions = solutions.reshape((-1, 9, 9))"
   ]
  },
  {
   "cell_type": "code",
   "execution_count": 100,
   "id": "a74a2e2e",
   "metadata": {},
   "outputs": [],
   "source": [
    "def calculate_accuracy(true_array, predicted_array):\n",
    "    if len(true_array) != len(predicted_array) or any(len(row) != len(predicted_array[0]) for row in true_array):\n",
    "        raise ValueError(\"Input arrays must have the same dimensions\")\n",
    "\n",
    "    total_elements = len(true_array) * len(true_array[0])\n",
    "    correct_predictions = sum(true_array[i][j] == predicted_array[i][j] for i in range(len(true_array)) for j in range(len(true_array[0])))\n",
    "\n",
    "    accuracy = correct_predictions / total_elements\n",
    "    return accuracy"
   ]
  },
  {
   "cell_type": "code",
   "execution_count": 112,
   "id": "55dda197",
   "metadata": {},
   "outputs": [
    {
     "name": "stderr",
     "output_type": "stream",
     "text": [
      "100%|████████████████████████████████████████████████████████████████████████████| 30000/30000 [03:23<00:00, 147.35it/s]\n"
     ]
    }
   ],
   "source": [
    "all_accuracies = []\n",
    "for i in tqdm(range(30000), ncols = 120):\n",
    "    board = boards[i]\n",
    "    solution = solutions[i]\n",
    "    \n",
    "    sudoku = SudokuSolver(board)\n",
    "    sudoku_solution = sudoku.solve_sudoku()\n",
    "    all_accuracies.append(calculate_accuracy(solution, sudoku_solution))"
   ]
  },
  {
   "cell_type": "code",
   "execution_count": 82,
   "id": "bfd6f9b7",
   "metadata": {},
   "outputs": [
    {
     "name": "stdout",
     "output_type": "stream",
     "text": [
      "Total time taken:  0.02397441864013672\n",
      "[[1, 2, 3, 6, 4, 7, 5, 9, 8],\n",
      " [4, 6, 7, 9, 8, 5, 1, 3, 2],\n",
      " [5, 8, 9, 1, 3, 2, 4, 6, 7],\n",
      " [2, 7, 8, 5, 6, 1, 9, 4, 3],\n",
      " [6, 4, 5, 8, 9, 3, 7, 2, 1],\n",
      " [3, 9, 1, 7, 2, 4, 8, 5, 6],\n",
      " [7, 1, 4, 3, 5, 6, 2, 8, 9],\n",
      " [8, 3, 2, 4, 1, 9, 6, 7, 5],\n",
      " [9, 5, 6, 2, 7, 8, 3, 1, 4]]\n"
     ]
    },
    {
     "data": {
      "text/plain": [
       "0.024930238723754883"
      ]
     },
     "execution_count": 82,
     "metadata": {},
     "output_type": "execute_result"
    }
   ],
   "source": [
    "sudoku_board = [\n",
    "    [0, 0, 0, 0, 0, 0, 0, 0, 0],\n",
    "    [0, 0, 0, 0, 0, 5, 0, 0, 0],\n",
    "    [0, 0, 0, 0, 0, 0, 0, 6, 0],\n",
    "    [0, 0, 0, 0, 6, 0, 0, 0, 3],\n",
    "    [0, 0, 0, 8, 0, 3, 0, 0, 1],\n",
    "    [0, 0, 0, 0, 2, 0, 0, 0, 0],\n",
    "    [0, 0, 0, 0, 0, 0, 2, 8, 0],\n",
    "    [0, 0, 0, 4, 1, 9, 0, 0, 5],\n",
    "    [0, 0, 0, 0, 0, 0, 0, 0, 0]\n",
    "]\n",
    "start_t = time.time()\n",
    "sudoku = SudokuSolver(sudoku_board)\n",
    "solution = sudoku.solve_sudoku()\n",
    "pprint(solution)\n",
    "end_t = time.time()\n",
    "end_t - start_t"
   ]
  },
  {
   "cell_type": "code",
   "execution_count": 99,
   "id": "4bcfb9a7",
   "metadata": {},
   "outputs": [
    {
     "name": "stdout",
     "output_type": "stream",
     "text": [
      "Accuracy: 88.89%\n"
     ]
    }
   ],
   "source": [
    "\n",
    "\n",
    "# Example usage:\n",
    "true_array = [\n",
    "    [1, 0, 1],\n",
    "    [0, 1, 0],\n",
    "    [1, 1, 1]\n",
    "]\n",
    "\n",
    "predicted_array = [\n",
    "    [1, 0, 0],\n",
    "    [0, 1, 0],\n",
    "    [1, 1, 1]\n",
    "]\n",
    "\n",
    "accuracy = calculate_accuracy(true_array, predicted_array)\n",
    "print(f\"Accuracy: {accuracy * 100:.2f}%\")\n"
   ]
  }
 ],
 "metadata": {
  "kernelspec": {
   "display_name": "Python 3 (ipykernel)",
   "language": "python",
   "name": "python3"
  },
  "language_info": {
   "codemirror_mode": {
    "name": "ipython",
    "version": 3
   },
   "file_extension": ".py",
   "mimetype": "text/x-python",
   "name": "python",
   "nbconvert_exporter": "python",
   "pygments_lexer": "ipython3",
   "version": "3.11.5"
  }
 },
 "nbformat": 4,
 "nbformat_minor": 5
}
