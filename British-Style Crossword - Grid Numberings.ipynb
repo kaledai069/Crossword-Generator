{
 "cells": [
  {
   "cell_type": "code",
   "execution_count": 2,
   "id": "3899bc13",
   "metadata": {},
   "outputs": [],
   "source": [
    "from grid_generator_latest import generate_grid, create_crossword_grid, add_black_squares, returnJSON, create_crossword_image"
   ]
  },
  {
   "cell_type": "markdown",
   "id": "8cb57560",
   "metadata": {},
   "source": [
    "#### Testing generator-grid with grid nums from Ujjwal"
   ]
  },
  {
   "cell_type": "code",
   "execution_count": 3,
   "id": "4fd3af58",
   "metadata": {},
   "outputs": [],
   "source": [
    "grid_size = 11\n",
    "max_iters = 600\n",
    "b_factor = 6\n",
    "\n",
    "rows = cols = grid_size\n",
    "no_ran_iters = max_iters\n",
    "\n",
    "if grid_size != 4:\n",
    "    while no_ran_iters == max_iters:\n",
    "        crossword_grid = create_crossword_grid(rows, cols)\n",
    "        crossword_grid, no_ran_iters, symmetry = add_black_squares(crossword_grid, max_iters, black_factor = b_factor)\n",
    "else:\n",
    "    crossword_grid = create_crossword_grid(rows, cols)\n",
    "    crossword_grid, no_ran_iters, symmetry = add_black_squares(crossword_grid, max_iters, black_factor = b_factor)"
   ]
  },
  {
   "cell_type": "code",
   "execution_count": 7,
   "id": "6fb0e6b4",
   "metadata": {},
   "outputs": [],
   "source": [
    "json_data = returnJSON(crossword_grid, rows, cols)\n",
    "grid_nums = json_data['gridnums']\n",
    "across_nums = json_data['across_nums']\n",
    "down_nums = json_data['down_nums']"
   ]
  },
  {
   "cell_type": "markdown",
   "id": "6cc19415",
   "metadata": {},
   "source": [
    "### Working around with the British-Style Crosswords"
   ]
  },
  {
   "cell_type": "code",
   "execution_count": 11,
   "id": "0d715ede",
   "metadata": {},
   "outputs": [],
   "source": [
    "import puz\n",
    "import glob\n",
    "import os\n",
    "import random\n",
    "\n",
    "puz_dir_path = './British-Style Crosswords Puz'\n",
    "\n",
    "puz_filepath_list = glob.glob(os.path.join(puz_dir_path, '*.puz'))"
   ]
  },
  {
   "cell_type": "code",
   "execution_count": 14,
   "id": "28b3bcbe",
   "metadata": {},
   "outputs": [],
   "source": [
    "selected_puz_filepath = random.choice(puz_filepath_list)"
   ]
  },
  {
   "cell_type": "code",
   "execution_count": 13,
   "id": "5ec3e717",
   "metadata": {},
   "outputs": [],
   "source": [
    "# convert puz to json file format\n",
    "def puz_to_json(fname):\n",
    "    p = puz.read(fname)\n",
    "    numbering = p.clue_numbering()\n",
    "\n",
    "    grid = [[None for _ in range(p.width)] for _ in range(p.height)]\n",
    "    for row_idx in range(p.height):\n",
    "        cell = row_idx * p.width\n",
    "        row_solution = p.solution[cell:cell + p.width]\n",
    "        for col_index, item in enumerate(row_solution):\n",
    "            if p.solution[cell + col_index:cell + col_index + 1] == '.':\n",
    "                grid[row_idx][col_index] = 'BLACK'\n",
    "            else:\n",
    "                grid[row_idx][col_index] = [\"\", row_solution[col_index: col_index + 1]]\n",
    "\n",
    "    across_clues = {}\n",
    "    for clue in numbering.across:\n",
    "        answer = ''.join(p.solution[clue['cell'] + i] for i in range(clue['len']))\n",
    "        across_clues[str(clue['num'])] = [clue['clue'] + ' ', ' ' + answer]\n",
    "        grid[int(clue['cell'] / p.width)][clue['cell'] % p.width][0] = str(clue['num'])\n",
    "\n",
    "    down_clues = {}\n",
    "    for clue in numbering.down:\n",
    "        answer = ''.join(p.solution[clue['cell'] + i * numbering.width] for i in range(clue['len']))\n",
    "        down_clues[str(clue['num'])] = [clue['clue'] + ' ', ' ' + answer]\n",
    "        grid[int(clue['cell'] / p.width)][clue['cell'] % p.width][0] = str(clue['num'])\n",
    "\n",
    "\n",
    "    mydict = {'metadata': {'date': None, 'rows': p.height, 'cols': p.width}, 'clues': {'across': across_clues, 'down': down_clues}, 'grid': grid}\n",
    "    return mydict"
   ]
  },
  {
   "cell_type": "code",
   "execution_count": 16,
   "id": "9f1b4452",
   "metadata": {},
   "outputs": [],
   "source": [
    "grid_json_data = puz_to_json(selected_puz_filepath)"
   ]
  },
  {
   "cell_type": "code",
   "execution_count": 18,
   "id": "b1dbedd8",
   "metadata": {},
   "outputs": [
    {
     "data": {
      "text/plain": [
       "[[' ', ' ', ' ', ' ', '.', ' ', ' ', ' ', ' ', ' ', ' ', ' ', ' '],\n",
       " [' ', '.', ' ', '.', ' ', '.', ' ', '.', ' ', '.', ' ', '.', ' '],\n",
       " [' ', ' ', ' ', ' ', ' ', ' ', ' ', '.', ' ', ' ', ' ', ' ', ' '],\n",
       " [' ', '.', ' ', '.', ' ', '.', ' ', '.', ' ', '.', ' ', '.', ' '],\n",
       " [' ', ' ', ' ', ' ', ' ', '.', ' ', ' ', ' ', ' ', ' ', ' ', '.'],\n",
       " [' ', '.', '.', '.', ' ', '.', ' ', '.', '.', '.', ' ', '.', ' '],\n",
       " [' ', ' ', ' ', ' ', ' ', ' ', '.', ' ', ' ', ' ', ' ', ' ', ' '],\n",
       " [' ', '.', ' ', '.', '.', '.', ' ', '.', ' ', '.', '.', '.', ' '],\n",
       " ['.', ' ', ' ', ' ', ' ', ' ', ' ', '.', ' ', ' ', ' ', ' ', ' '],\n",
       " [' ', '.', ' ', '.', ' ', '.', ' ', '.', ' ', '.', ' ', '.', ' '],\n",
       " [' ', ' ', ' ', ' ', ' ', '.', ' ', ' ', ' ', ' ', ' ', ' ', ' '],\n",
       " [' ', '.', ' ', '.', ' ', '.', ' ', '.', ' ', '.', ' ', '.', ' '],\n",
       " [' ', ' ', ' ', ' ', ' ', ' ', ' ', ' ', '.', ' ', ' ', ' ', ' ']]"
      ]
     },
     "execution_count": 18,
     "metadata": {},
     "output_type": "execute_result"
    }
   ],
   "source": [
    "rows, cols = grid_json_data['metadata']['rows'], grid_json_data['metadata']['cols']\n",
    "ori_grid_ = grid_json_data['grid']\n",
    "\n",
    "grid_structure = []\n",
    "for i in range(rows):\n",
    "    row = []\n",
    "    for j in range(cols):\n",
    "        if isinstance(ori_grid_[i][j], list):\n",
    "            row.append(' ')\n",
    "        else:\n",
    "            row.append('.')\n",
    "    grid_structure.append(row)\n",
    "grid_structure"
   ]
  },
  {
   "cell_type": "code",
   "execution_count": 20,
   "id": "bced23ce",
   "metadata": {},
   "outputs": [
    {
     "data": {
      "image/png": "[encoded data removed]",
      "text/plain": [
       "<Figure size 600x600 with 1 Axes>"
      ]
     },
     "metadata": {},
     "output_type": "display_data"
    }
   ],
   "source": [
    "formatted_grid_json = returnJSON(grid_structure, rows, cols)\n",
    "grid_nums = formatted_grid_json['gridnums']\n",
    "reshaped_grid = [grid_nums[i:i+rows] for i in range(0, len(grid_nums), rows)]\n",
    "\n",
    "create_crossword_image(grid_structure, reshaped_grid)"
   ]
  }
 ],
 "metadata": {
  "kernelspec": {
   "display_name": "Python 3 (ipykernel)",
   "language": "python",
   "name": "python3"
  },
  "language_info": {
   "codemirror_mode": {
    "name": "ipython",
    "version": 3
   },
   "file_extension": ".py",
   "mimetype": "text/x-python",
   "name": "python",
   "nbconvert_exporter": "python",
   "pygments_lexer": "ipython3",
   "version": "3.11.5"
  }
 },
 "nbformat": 4,
 "nbformat_minor": 5
}
