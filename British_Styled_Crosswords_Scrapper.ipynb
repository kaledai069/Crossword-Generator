{
  "nbformat": 4,
  "nbformat_minor": 0,
  "metadata": {
    "colab": {
      "provenance": [],
      "authorship_tag": "ABX9TyNC0jVecCD41O7ydgZXGnAJ",
      "include_colab_link": true
    },
    "kernelspec": {
      "name": "python3",
      "display_name": "Python 3"
    },
    "language_info": {
      "name": "python"
    }
  },
  "cells": [
    {
      "cell_type": "markdown",
      "metadata": {
        "id": "view-in-github",
        "colab_type": "text"
      },
      "source": [
        "<a href=\"https://colab.research.google.com/github/kaledai069/Crossword-Generator/blob/master/British_Styled_Crosswords_Scrapper.ipynb\" target=\"_parent\"><img src=\"https://colab.research.google.com/assets/colab-badge.svg\" alt=\"Open In Colab\"/></a>"
      ]
    },
    {
      "cell_type": "code",
      "source": [
        "!pip install -q git+https://github.com/alexdej/puzpy.git\n",
        "!pip install -q xword-dl"
      ],
      "metadata": {
        "colab": {
          "base_uri": "https://localhost:8080/"
        },
        "id": "l0EKnTHQL2nK",
        "outputId": "52455c01-dcb2-4584-9319-6a1cb1b5834a"
      },
      "execution_count": null,
      "outputs": [
        {
          "output_type": "stream",
          "name": "stdout",
          "text": [
            "  Preparing metadata (setup.py) ... \u001b[?25l\u001b[?25hdone\n",
            "\u001b[2K     \u001b[90m━━━━━━━━━━━━━━━━━━━━━━━━━━━━━━━━━━━━━━━━\u001b[0m \u001b[32m143.0/143.0 kB\u001b[0m \u001b[31m4.3 MB/s\u001b[0m eta \u001b[36m0:00:00\u001b[0m\n",
            "\u001b[2K     \u001b[90m━━━━━━━━━━━━━━━━━━━━━━━━━━━━━━━━━━━━━━━━\u001b[0m \u001b[32m293.8/293.8 kB\u001b[0m \u001b[31m6.8 MB/s\u001b[0m eta \u001b[36m0:00:00\u001b[0m\n",
            "\u001b[2K     \u001b[90m━━━━━━━━━━━━━━━━━━━━━━━━━━━━━━━━━━━━━━━━\u001b[0m \u001b[32m235.9/235.9 kB\u001b[0m \u001b[31m7.7 MB/s\u001b[0m eta \u001b[36m0:00:00\u001b[0m\n",
            "\u001b[2K     \u001b[90m━━━━━━━━━━━━━━━━━━━━━━━━━━━━━━━━━━━━━━━━\u001b[0m \u001b[32m7.1/7.1 MB\u001b[0m \u001b[31m19.4 MB/s\u001b[0m eta \u001b[36m0:00:00\u001b[0m\n",
            "\u001b[?25h"
          ]
        }
      ]
    },
    {
      "cell_type": "code",
      "source": [
        "import random\n",
        "import numpy as np\n",
        "import matplotlib.pyplot as plt\n",
        "import datetime\n",
        "import subprocess\n",
        "import puz\n",
        "import glob\n",
        "import os\n",
        "import json\n",
        "\n",
        "from math import floor, ceil\n",
        "from PIL import Image, ImageDraw, ImageFont"
      ],
      "metadata": {
        "id": "K47dQ7qhL5lj"
      },
      "execution_count": null,
      "outputs": []
    },
    {
      "cell_type": "markdown",
      "source": [
        "### British-Style Crossword Grid Generator"
      ],
      "metadata": {
        "id": "bjiYrhNFKWEl"
      }
    },
    {
      "cell_type": "code",
      "execution_count": null,
      "metadata": {
        "id": "T7bU86itGu1Z"
      },
      "outputs": [],
      "source": [
        "def generate_british_style(arr):\n",
        "    random_indices = [i * 2 for i in range(len(arr[0]) // 2)]\n",
        "\n",
        "    selected = random.sample(random_indices, len(random_indices) // 4)\n",
        "\n",
        "    selected2 = [index + 1 for index in selected]\n",
        "    random.shuffle(selected2)\n",
        "\n",
        "    for i in range(len(arr)):\n",
        "        if i % 2 == 0:\n",
        "            if i not in selected:\n",
        "                arr[i][random.randint(0, len(arr[i]) - 1)] = '*'\n",
        "        else:\n",
        "            for j in range(len(arr[i])):\n",
        "                if j % 2 == 1:\n",
        "                    arr[i][j] = '*'\n",
        "            if i in selected2:\n",
        "                s = random.randint(0, len(arr[i]) - 1)\n",
        "                if s % 2 == 1:\n",
        "                    s -= 1\n",
        "                arr[i][s] = '*'\n",
        "\n",
        "# Example usage:\n",
        "rows = 5\n",
        "columns = 5\n",
        "grid_size = 21\n",
        "grid = [[' ' for _ in range(grid_size)] for _ in range(grid_size)]\n",
        "generate_british_style(grid)"
      ]
    },
    {
      "cell_type": "code",
      "source": [
        "def visualize_crossword_image(grid, black_cell_str = '*', grid_nums = None, cell_size = 30, black_square_color=\"black\", text_color=\"black\", image_file=\"crossword.png\"):\n",
        "    \"\"\"\n",
        "    Create an image representation of the crossword grid.\n",
        "\n",
        "    Parameters:\n",
        "    - grid (list): The crossword grid.\n",
        "    - cell_size (int): Size of each cell in pixels.\n",
        "    - black_square_color (str): Color for black squares.\n",
        "    - text_color (str): Color for text.\n",
        "    - image_file (str): File name to save the image.\n",
        "\n",
        "    Returns:\n",
        "    - None\n",
        "    \"\"\"\n",
        "    height = len(grid) * cell_size + 1\n",
        "    width = len(grid[0]) * cell_size + 1\n",
        "\n",
        "    img = Image.new(\"RGB\", (width, height), \"white\")\n",
        "    draw = ImageDraw.Draw(img)\n",
        "\n",
        "    font = ImageFont.load_default()\n",
        "\n",
        "    # Adjust font size\n",
        "    font_size = 8  # Set your desired font size\n",
        "    font = ImageFont.truetype(\"./Roboto-Regular.ttf\", font_size)\n",
        "\n",
        "    for row in range(len(grid)):\n",
        "        for col in range(len(grid[row])):\n",
        "            x = col * cell_size\n",
        "            y = row * cell_size\n",
        "            rect = [(x, y), (x + cell_size, y + cell_size)]\n",
        "\n",
        "            if grid[row][col] == black_cell_str:\n",
        "                draw.rectangle(rect, fill = black_square_color)\n",
        "            else:\n",
        "                draw.rectangle(rect, outline = \"black\")\n",
        "                # if grid_nums[row][col] != 0:\n",
        "                #   draw.text((x + cell_size // 2 - 7, y + cell_size // 2 - 8), str(grid_nums[row][col]), fill=text_color, anchor=\"mm\", font=font)\n",
        "\n",
        "    img_array = np.array(img)\n",
        "    plt.figure(figsize = (6, 6))\n",
        "    plt.imshow(img_array)\n",
        "    plt.axis('off')\n",
        "    plt.show()"
      ],
      "metadata": {
        "id": "B4lmKfXFJ24L"
      },
      "execution_count": null,
      "outputs": []
    },
    {
      "cell_type": "code",
      "source": [
        "visualize_crossword_image(grid, '*')"
      ],
      "metadata": {
        "colab": {
          "base_uri": "https://localhost:8080/",
          "height": 499
        },
        "id": "Xw6jes0qLVsn",
        "outputId": "e1a094ab-1bfa-4e9c-90c4-f9438e20e6f9"
      },
      "execution_count": null,
      "outputs": [
        {
          "output_type": "display_data",
          "data": {
            "text/plain": [
              "<Figure size 600x600 with 1 Axes>"
            ],
            "image/png": "[encoded data removed]"
          },
          "metadata": {}
        }
      ]
    },
    {
      "cell_type": "code",
      "source": [
        "def puz_to_json(fname):\n",
        "    \"\"\" Converts a puzzle in .puz format to .json format\n",
        "    \"\"\"\n",
        "    p = puz.read(fname)\n",
        "    numbering = p.clue_numbering()\n",
        "\n",
        "    grid = [[None for _ in range(p.width)] for _ in range(p.height)]\n",
        "    for row_idx in range(p.height):\n",
        "        cell = row_idx * p.width\n",
        "        row_solution = p.solution[cell:cell + p.width]\n",
        "        for col_index, item in enumerate(row_solution):\n",
        "            if p.solution[cell + col_index:cell + col_index + 1] == '.':\n",
        "                grid[row_idx][col_index] = 'BLACK'\n",
        "            else:\n",
        "                grid[row_idx][col_index] = [\"\", row_solution[col_index: col_index + 1]]\n",
        "\n",
        "    across_clues = {}\n",
        "    for clue in numbering.across:\n",
        "        answer = ''.join(p.solution[clue['cell'] + i] for i in range(clue['len']))\n",
        "        across_clues[str(clue['num'])] = [clue['clue'] + ' ', ' ' + answer]\n",
        "        grid[int(clue['cell'] / p.width)][clue['cell'] % p.width][0] = str(clue['num'])\n",
        "\n",
        "    down_clues = {}\n",
        "    for clue in numbering.down:\n",
        "        answer = ''.join(p.solution[clue['cell'] + i * numbering.width] for i in range(clue['len']))\n",
        "        down_clues[str(clue['num'])] = [clue['clue'] + ' ', ' ' + answer]\n",
        "        grid[int(clue['cell'] / p.width)][clue['cell'] % p.width][0] = str(clue['num'])\n",
        "\n",
        "\n",
        "    mydict = {'metadata': {'date': None, 'rows': p.height, 'cols': p.width}, 'clues': {'across': across_clues, 'down': down_clues}, 'grid': grid}\n",
        "    return mydict\n",
        "\n",
        "def download_crossword(publication, publication_keyword, start_date, end_date, output_dir):\n",
        "    if not os.path.exists(os.path.join(output_dir, publication)):\n",
        "        os.mkdir(os.path.join(output_dir, publication))\n",
        "\n",
        "    current_date = start_date\n",
        "\n",
        "    while current_date <= end_date:\n",
        "        formatted_date_str = current_date.strftime(\"%m/%d/%y\")\n",
        "        output_date_str = current_date.strftime(\"%m-%d-%Y\")\n",
        "\n",
        "        try:\n",
        "            output_file_path = f\"{output_dir}/{publication}/crossword_{output_date_str}.puz\"\n",
        "            command = f'xword-dl {publication_keyword} --date {formatted_date_str} -o {output_file_path}'\n",
        "            subprocess.run(command, shell = True, check = True, stdout = subprocess.PIPE, text = True)\n",
        "            print(f\"Successfully downloaded for {publication}: Filename - crossword_{output_date_str}.puz\")\n",
        "        except:\n",
        "            print(f\"Error in downloading crossword for: {output_date_str}\")\n",
        "\n",
        "        current_date += datetime.timedelta(days = 1)\n",
        "\n",
        "def convert_to_json(publication, puz_output_dir, json_output_dir):\n",
        "\n",
        "    all_puz_files = glob.glob(os.path.join(puz_output_dir, publication, '*.puz'))\n",
        "\n",
        "    if not os.path.exists(os.path.join(json_output_dir, publication)):\n",
        "        os.mkdir(os.path.join(json_output_dir, publication))\n",
        "\n",
        "    for puz_file_path in all_puz_files:\n",
        "        json_output_path = puz_file_path.replace('.puz', '.json').replace('puz', 'json')\n",
        "        json_data = puz_to_json(puz_file_path)\n",
        "        with open(json_output_path, 'w') as f:\n",
        "            json.dump(json_data, f)\n",
        "\n",
        "\n",
        "publication_keyword = \"sdpq\"\n",
        "publication = 'simply-daily-puzzles-quick'\n",
        "start_date = datetime.date(2023, 12, 1)\n",
        "end_date= datetime.date(2023, 12, 31)\n",
        "puz_output_dir = \"/content/puz\"\n",
        "json_output_dir = \"/content/json\"\n",
        "\n",
        "# just make the puz directory\n",
        "if not os.path.exists(puz_output_dir):\n",
        "    os.mkdir(puz_output_dir)\n",
        "\n",
        "# make publication specific directory\n",
        "if not os.path.exists(os.path.join(puz_output_dir, publication)):\n",
        "    os.mkdir(os.path.join(puz_output_dir, publication))\n",
        "\n",
        "\n",
        "download_crossword(publication, publication_keyword, start_date, end_date, puz_output_dir)\n",
        "# convert_to_json(publication, puz_output_dir, json_output_dir)"
      ],
      "metadata": {
        "colab": {
          "base_uri": "https://localhost:8080/"
        },
        "id": "fkeOIrzlLZbF",
        "outputId": "b91ba9b5-e175-4765-9d9a-9234f2930724"
      },
      "execution_count": null,
      "outputs": [
        {
          "output_type": "stream",
          "name": "stdout",
          "text": [
            "Successfully downloaded for simply-daily-puzzles-quick: Filename - crossword_12-01-2023.puz\n",
            "Successfully downloaded for simply-daily-puzzles-quick: Filename - crossword_12-02-2023.puz\n",
            "Successfully downloaded for simply-daily-puzzles-quick: Filename - crossword_12-03-2023.puz\n",
            "Successfully downloaded for simply-daily-puzzles-quick: Filename - crossword_12-04-2023.puz\n",
            "Successfully downloaded for simply-daily-puzzles-quick: Filename - crossword_12-05-2023.puz\n",
            "Successfully downloaded for simply-daily-puzzles-quick: Filename - crossword_12-06-2023.puz\n",
            "Successfully downloaded for simply-daily-puzzles-quick: Filename - crossword_12-07-2023.puz\n",
            "Successfully downloaded for simply-daily-puzzles-quick: Filename - crossword_12-08-2023.puz\n",
            "Successfully downloaded for simply-daily-puzzles-quick: Filename - crossword_12-09-2023.puz\n",
            "Successfully downloaded for simply-daily-puzzles-quick: Filename - crossword_12-10-2023.puz\n",
            "Successfully downloaded for simply-daily-puzzles-quick: Filename - crossword_12-11-2023.puz\n",
            "Successfully downloaded for simply-daily-puzzles-quick: Filename - crossword_12-12-2023.puz\n",
            "Successfully downloaded for simply-daily-puzzles-quick: Filename - crossword_12-13-2023.puz\n",
            "Successfully downloaded for simply-daily-puzzles-quick: Filename - crossword_12-14-2023.puz\n",
            "Successfully downloaded for simply-daily-puzzles-quick: Filename - crossword_12-15-2023.puz\n",
            "Successfully downloaded for simply-daily-puzzles-quick: Filename - crossword_12-16-2023.puz\n",
            "Successfully downloaded for simply-daily-puzzles-quick: Filename - crossword_12-17-2023.puz\n",
            "Successfully downloaded for simply-daily-puzzles-quick: Filename - crossword_12-18-2023.puz\n",
            "Successfully downloaded for simply-daily-puzzles-quick: Filename - crossword_12-19-2023.puz\n",
            "Successfully downloaded for simply-daily-puzzles-quick: Filename - crossword_12-20-2023.puz\n",
            "Successfully downloaded for simply-daily-puzzles-quick: Filename - crossword_12-21-2023.puz\n",
            "Successfully downloaded for simply-daily-puzzles-quick: Filename - crossword_12-22-2023.puz\n",
            "Successfully downloaded for simply-daily-puzzles-quick: Filename - crossword_12-23-2023.puz\n",
            "Successfully downloaded for simply-daily-puzzles-quick: Filename - crossword_12-24-2023.puz\n",
            "Successfully downloaded for simply-daily-puzzles-quick: Filename - crossword_12-25-2023.puz\n",
            "Successfully downloaded for simply-daily-puzzles-quick: Filename - crossword_12-26-2023.puz\n",
            "Successfully downloaded for simply-daily-puzzles-quick: Filename - crossword_12-27-2023.puz\n",
            "Successfully downloaded for simply-daily-puzzles-quick: Filename - crossword_12-28-2023.puz\n",
            "Successfully downloaded for simply-daily-puzzles-quick: Filename - crossword_12-29-2023.puz\n",
            "Successfully downloaded for simply-daily-puzzles-quick: Filename - crossword_12-30-2023.puz\n",
            "Successfully downloaded for simply-daily-puzzles-quick: Filename - crossword_12-31-2023.puz\n"
          ]
        }
      ]
    },
    {
      "cell_type": "code",
      "source": [
        "puz_files = glob.glob(os.path.join(puz_output_dir, publication, '*.puz'))\n",
        "selected = random.choice(puz_files)\n",
        "print(selected)\n",
        "json_grid_data = puz_to_json(selected)\n",
        "grid_array = json_grid_data['grid']\n",
        "rows, cols = json_grid_data['metadata']['rows'], json_grid_data['metadata']['cols']\n",
        "\n",
        "grid_structure = []\n",
        "for row in grid_array:\n",
        "    row_array = []\n",
        "    for col_element in row:\n",
        "        if isinstance(col_element, list):\n",
        "            row_array.append('')\n",
        "        else:\n",
        "            row_array.append('*') # using * for Black Cells\n",
        "\n",
        "    grid_structure.append(row_array)\n",
        "\n",
        "visualize_crossword_image(grid_structure, None)"
      ],
      "metadata": {
        "colab": {
          "base_uri": "https://localhost:8080/",
          "height": 516
        },
        "id": "v3Q65l9nMayK",
        "outputId": "1bbaed52-5684-4fbe-f370-f15f88092008"
      },
      "execution_count": null,
      "outputs": [
        {
          "output_type": "stream",
          "name": "stdout",
          "text": [
            "/content/puz/simply-daily-puzzles-quick/crossword_12-11-2023.puz\n"
          ]
        },
        {
          "output_type": "display_data",
          "data": {
            "text/plain": [
              "<Figure size 600x600 with 1 Axes>"
            ],
            "image/png": "[encoded data removed]"
          },
          "metadata": {}
        }
      ]
    },
    {
      "cell_type": "code",
      "source": [
        "### lets try-out making some british-style grids from above examples\n",
        "grid_size = 13\n",
        "rows = cols = grid_size\n",
        "grid_array = [['W'] * cols for _ in range(rows)]\n",
        "\n",
        "for row in range(1, rows, 2): # odd_places\n",
        "    for col in range(1, cols, 2):\n",
        "        grid_array[row][col] = 'B'\n",
        "\n",
        "for i in range(0, ceil(rows / 2)): #even_places\n",
        "    random_indices = random.sample(range(0, cols), random.randint(1, 2))\n",
        "    for j in random_indices:\n",
        "        grid_array[i][j] = 'B'\n",
        "        grid_array[rows - 1 - i][cols - 1 - j] = 'B'\n",
        "\n",
        "visualize_crossword_image(grid_array, 'B')"
      ],
      "metadata": {
        "colab": {
          "base_uri": "https://localhost:8080/",
          "height": 499
        },
        "id": "uOX6uB2GQYoN",
        "outputId": "f6372e32-7713-4779-ffd9-ee17a0683848"
      },
      "execution_count": null,
      "outputs": [
        {
          "output_type": "display_data",
          "data": {
            "text/plain": [
              "<Figure size 600x600 with 1 Axes>"
            ],
            "image/png": "[encoded data removed]"
          },
          "metadata": {}
        }
      ]
    },
    {
      "cell_type": "code",
      "source": [
        "import random\n",
        "\n",
        "my_list = [1, 2, 3, 4, 5, 6, 7, 8, 9, 10]\n",
        "\n",
        "\n"
      ],
      "metadata": {
        "colab": {
          "base_uri": "https://localhost:8080/"
        },
        "id": "zBpKLllkUxRy",
        "outputId": "e93e57dc-2007-44b9-af16-1c2ff83c61dc"
      },
      "execution_count": null,
      "outputs": [
        {
          "output_type": "execute_result",
          "data": {
            "text/plain": [
              "[20, 4]"
            ]
          },
          "metadata": {},
          "execution_count": 86
        }
      ]
    }
  ]
}